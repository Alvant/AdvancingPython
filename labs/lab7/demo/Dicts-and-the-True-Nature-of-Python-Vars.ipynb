{
 "cells": [
  {
   "cell_type": "markdown",
   "metadata": {},
   "source": [
    "# Dicts and the True Nature of Python Vars"
   ]
  },
  {
   "cell_type": "markdown",
   "metadata": {},
   "source": [
    "## Словари"
   ]
  },
  {
   "cell_type": "markdown",
   "metadata": {},
   "source": [
    "Списки — это про последовательности чего-то.\n",
    "Но часто встречаются ситуации, когда приходится иметь дело с *отображениями* чего-то во что-то.\n",
    "\n",
    "Например, можно составить список из слов, приведённых в толковом словаре.\n",
    "Но, помимо слов, в нём есть и определения.\n",
    "Таким образом, имеем дело не просто со списком слов, а с *отображением* \"слово -> определение\":\n",
    "```\n",
    "грустный -> невесёлый\n",
    "математик -> тот, кто занимается математикой\n",
    "фиолетовый -> красный плюс синий\n",
    "```\n",
    "\n",
    "Или ещё пример — ученики одной группы.\n",
    "Это список.\n",
    "Но если, например, записать в журнал напротив имени человека его оценку за коллоквиум, получается *отобажение*:\n",
    "```\n",
    "студент1 -> 3\n",
    "студент2 -> 7\n",
    "студент3 -> 2\n",
    "```"
   ]
  },
  {
   "cell_type": "markdown",
   "metadata": {},
   "source": [
    "### \"Предсловарь\", или Не очень удобный способ работы с отображениями\n",
    "\n",
    "Отображение как список пар."
   ]
  },
  {
   "cell_type": "code",
   "execution_count": 1,
   "metadata": {},
   "outputs": [],
   "source": [
    "# Продукт -> цена\n",
    "\n",
    "pairs = [\n",
    "    ('вино', 1000),\n",
    "    ('сыр', 700)\n",
    "]"
   ]
  },
  {
   "cell_type": "code",
   "execution_count": 2,
   "metadata": {},
   "outputs": [
    {
     "name": "stdout",
     "output_type": "stream",
     "text": [
      "Found!\n"
     ]
    }
   ],
   "source": [
    "# Поиск\n",
    "\n",
    "searched_key = 'вино'\n",
    "\n",
    "for pair in pairs:\n",
    "    if pair[0] == searched_key:\n",
    "        print('Found!')"
   ]
  },
  {
   "cell_type": "code",
   "execution_count": 3,
   "metadata": {},
   "outputs": [],
   "source": [
    "# Извлечение\n",
    "\n",
    "def get(pairs, key):\n",
    "    for i in range(len(pairs)):\n",
    "        if pairs[i][0] == key:\n",
    "            return pairs[i][1]\n",
    "\n",
    "    raise KeyError(key)"
   ]
  },
  {
   "cell_type": "code",
   "execution_count": 4,
   "metadata": {},
   "outputs": [
    {
     "data": {
      "text/plain": [
       "1000"
      ]
     },
     "execution_count": 4,
     "metadata": {},
     "output_type": "execute_result"
    }
   ],
   "source": [
    "get(pairs, 'вино')"
   ]
  },
  {
   "cell_type": "code",
   "execution_count": 5,
   "metadata": {},
   "outputs": [
    {
     "ename": "KeyError",
     "evalue": "'сок'",
     "output_type": "error",
     "traceback": [
      "\u001b[0;31m---------------------------------------------------------------------------\u001b[0m",
      "\u001b[0;31mKeyError\u001b[0m                                  Traceback (most recent call last)",
      "Cell \u001b[0;32mIn[5], line 1\u001b[0m\n\u001b[0;32m----> 1\u001b[0m \u001b[43mget\u001b[49m\u001b[43m(\u001b[49m\u001b[43mpairs\u001b[49m\u001b[43m,\u001b[49m\u001b[43m \u001b[49m\u001b[38;5;124;43m'\u001b[39;49m\u001b[38;5;124;43mсок\u001b[39;49m\u001b[38;5;124;43m'\u001b[39;49m\u001b[43m)\u001b[49m\n",
      "Cell \u001b[0;32mIn[3], line 8\u001b[0m, in \u001b[0;36mget\u001b[0;34m(pairs, key)\u001b[0m\n\u001b[1;32m      5\u001b[0m     \u001b[38;5;28;01mif\u001b[39;00m pairs[i][\u001b[38;5;241m0\u001b[39m] \u001b[38;5;241m==\u001b[39m key:\n\u001b[1;32m      6\u001b[0m         \u001b[38;5;28;01mreturn\u001b[39;00m pairs[i][\u001b[38;5;241m1\u001b[39m]\n\u001b[0;32m----> 8\u001b[0m \u001b[38;5;28;01mraise\u001b[39;00m \u001b[38;5;167;01mKeyError\u001b[39;00m(key)\n",
      "\u001b[0;31mKeyError\u001b[0m: 'сок'"
     ]
    }
   ],
   "source": [
    "get(pairs, 'сок')"
   ]
  },
  {
   "cell_type": "code",
   "execution_count": 6,
   "metadata": {},
   "outputs": [],
   "source": [
    "# Обновление/Добавление\n",
    "\n",
    "def add_or_update(pairs, key, value):\n",
    "    j = -1\n",
    "\n",
    "    for i in range(len(pairs)):\n",
    "        if pairs[i][0] == key:\n",
    "            j = i\n",
    "\n",
    "    if j == -1:\n",
    "        pairs.append((key, value))\n",
    "    else:\n",
    "        pairs[j] = (key, value)"
   ]
  },
  {
   "cell_type": "code",
   "execution_count": 7,
   "metadata": {},
   "outputs": [
    {
     "name": "stdout",
     "output_type": "stream",
     "text": [
      "Original:\n",
      "[('вино', 1000), ('сыр', 700)]\n",
      "\n",
      "After update:\n",
      "[('вино', 1500), ('сыр', 700)]\n",
      "\n",
      "After add:\n",
      "[('вино', 1500), ('сыр', 700), ('любовь', inf)]\n"
     ]
    }
   ],
   "source": [
    "print('Original:')\n",
    "print(pairs)\n",
    "\n",
    "\n",
    "print('\\nAfter update:')\n",
    "\n",
    "add_or_update(pairs, 'вино', 1500)\n",
    "\n",
    "print(pairs)\n",
    "\n",
    "\n",
    "print('\\nAfter add:')\n",
    "\n",
    "add_or_update(pairs, 'любовь', float('inf'))\n",
    "\n",
    "print(pairs)"
   ]
  },
  {
   "cell_type": "code",
   "execution_count": 8,
   "metadata": {},
   "outputs": [],
   "source": [
    "del pairs"
   ]
  },
  {
   "cell_type": "markdown",
   "metadata": {},
   "source": [
    "### Словарь, или Нормальный способ работы с отображениями"
   ]
  },
  {
   "cell_type": "code",
   "execution_count": 9,
   "metadata": {},
   "outputs": [],
   "source": [
    "product_cost = {\n",
    "    'вино': 1000,\n",
    "    'сыр': 700\n",
    "}"
   ]
  },
  {
   "cell_type": "code",
   "execution_count": 10,
   "metadata": {},
   "outputs": [
    {
     "data": {
      "text/plain": [
       "{'вино': 1000, 'сыр': 700}"
      ]
     },
     "execution_count": 10,
     "metadata": {},
     "output_type": "execute_result"
    }
   ],
   "source": [
    "product_cost"
   ]
  },
  {
   "cell_type": "code",
   "execution_count": 11,
   "metadata": {},
   "outputs": [
    {
     "data": {
      "text/plain": [
       "True"
      ]
     },
     "execution_count": 11,
     "metadata": {},
     "output_type": "execute_result"
    }
   ],
   "source": [
    "# Поиск\n",
    "\n",
    "'вино' in product_cost"
   ]
  },
  {
   "cell_type": "code",
   "execution_count": 12,
   "metadata": {},
   "outputs": [
    {
     "data": {
      "text/plain": [
       "1000"
      ]
     },
     "execution_count": 12,
     "metadata": {},
     "output_type": "execute_result"
    }
   ],
   "source": [
    "# Извлечение\n",
    "\n",
    "product_cost['вино']"
   ]
  },
  {
   "cell_type": "code",
   "execution_count": 13,
   "metadata": {},
   "outputs": [
    {
     "ename": "KeyError",
     "evalue": "'сок'",
     "output_type": "error",
     "traceback": [
      "\u001b[0;31m---------------------------------------------------------------------------\u001b[0m",
      "\u001b[0;31mKeyError\u001b[0m                                  Traceback (most recent call last)",
      "Cell \u001b[0;32mIn[13], line 1\u001b[0m\n\u001b[0;32m----> 1\u001b[0m \u001b[43mproduct_cost\u001b[49m\u001b[43m[\u001b[49m\u001b[38;5;124;43m'\u001b[39;49m\u001b[38;5;124;43mсок\u001b[39;49m\u001b[38;5;124;43m'\u001b[39;49m\u001b[43m]\u001b[49m\n",
      "\u001b[0;31mKeyError\u001b[0m: 'сок'"
     ]
    }
   ],
   "source": [
    "product_cost['сок']"
   ]
  },
  {
   "cell_type": "code",
   "execution_count": 14,
   "metadata": {},
   "outputs": [
    {
     "name": "stdout",
     "output_type": "stream",
     "text": [
      "Original:\n",
      "{'вино': 1000, 'сыр': 700}\n",
      "\n",
      "After update:\n",
      "{'вино': 1500, 'сыр': 700}\n",
      "\n",
      "After add:\n",
      "{'вино': 1500, 'сыр': 700, 'любовь': inf}\n"
     ]
    }
   ],
   "source": [
    "# Обновление/Добавление\n",
    "\n",
    "print('Original:')\n",
    "print(product_cost)\n",
    "\n",
    "\n",
    "print('\\nAfter update:')\n",
    "\n",
    "product_cost['вино'] = 1500\n",
    "\n",
    "print(product_cost)\n",
    "\n",
    "\n",
    "print('\\nAfter add:')\n",
    "\n",
    "product_cost['любовь'] = float('inf')\n",
    "\n",
    "print(product_cost)"
   ]
  },
  {
   "cell_type": "code",
   "execution_count": null,
   "metadata": {},
   "outputs": [],
   "source": [
    "del product_cost"
   ]
  },
  {
   "cell_type": "markdown",
   "metadata": {},
   "source": [
    "### Частоты слов в тексте, или Более осмысленный пример на словари"
   ]
  },
  {
   "cell_type": "code",
   "execution_count": 1,
   "metadata": {},
   "outputs": [],
   "source": [
    "# https://ru.wikiquote.org/wiki/%D0%A0%D1%83%D1%81%D1%81%D0%BA%D0%B8%D0%B5_%D1%81%D0%BA%D0%BE%D1%80%D0%BE%D0%B3%D0%BE%D0%B2%D0%BE%D1%80%D0%BA%D0%B8#%D0%9C\n",
    "\n",
    "s = '''Мыла Мила мишку мылом\n",
    "Мыло Мила уронила\n",
    "Уронила Мила мыло\n",
    "Мишку мылом не домыла'''"
   ]
  },
  {
   "cell_type": "code",
   "execution_count": 2,
   "metadata": {},
   "outputs": [
    {
     "data": {
      "text/plain": [
       "['Мыла',\n",
       " 'Мила',\n",
       " 'мишку',\n",
       " 'мылом',\n",
       " 'Мыло',\n",
       " 'Мила',\n",
       " 'уронила',\n",
       " 'Уронила',\n",
       " 'Мила',\n",
       " 'мыло',\n",
       " 'Мишку',\n",
       " 'мылом',\n",
       " 'не',\n",
       " 'домыла']"
      ]
     },
     "execution_count": 2,
     "metadata": {},
     "output_type": "execute_result"
    }
   ],
   "source": [
    "s.split()"
   ]
  },
  {
   "cell_type": "code",
   "execution_count": 3,
   "metadata": {},
   "outputs": [],
   "source": [
    "word_frequencies = dict()\n",
    "words = s.lower().split()\n",
    "\n",
    "for word in words:\n",
    "    if word in word_frequencies:\n",
    "        word_frequencies[word] = word_frequencies[word] + 1\n",
    "    else:\n",
    "        word_frequencies[word] = 1"
   ]
  },
  {
   "cell_type": "code",
   "execution_count": 4,
   "metadata": {},
   "outputs": [
    {
     "data": {
      "text/plain": [
       "{'мыла': 1,\n",
       " 'мила': 3,\n",
       " 'мишку': 2,\n",
       " 'мылом': 2,\n",
       " 'мыло': 2,\n",
       " 'уронила': 2,\n",
       " 'не': 1,\n",
       " 'домыла': 1}"
      ]
     },
     "execution_count": 4,
     "metadata": {},
     "output_type": "execute_result"
    }
   ],
   "source": [
    "word_frequencies"
   ]
  },
  {
   "cell_type": "code",
   "execution_count": 5,
   "metadata": {},
   "outputs": [],
   "source": [
    "max_frequency = 0\n",
    "most_frequent = None\n",
    "\n",
    "for key in word_frequencies:\n",
    "    if word_frequencies[key] > max_frequency:\n",
    "        max_frequency = word_frequencies[key]\n",
    "        most_frequent = key"
   ]
  },
  {
   "cell_type": "code",
   "execution_count": 6,
   "metadata": {},
   "outputs": [
    {
     "name": "stdout",
     "output_type": "stream",
     "text": [
      "Most frequent: мила (frequency = 3).\n"
     ]
    }
   ],
   "source": [
    "print(f'Most frequent: {most_frequent} (frequency = {max_frequency}).')"
   ]
  },
  {
   "cell_type": "markdown",
   "metadata": {},
   "source": [
    "## Ссылочная модель данных в Питоне\n",
    "\n",
    "(Небольшой пример с иллюстрациями можно ещё посмотреть тут: http://cs.mipt.ru/advanced_python/lessons/lab01.html#section-2.)"
   ]
  },
  {
   "cell_type": "markdown",
   "metadata": {},
   "source": [
    "### Иллюзия — переменные как \"коробки\", или Неизменяемые типы"
   ]
  },
  {
   "cell_type": "code",
   "execution_count": 11,
   "metadata": {},
   "outputs": [],
   "source": [
    "# Целые числа\n",
    "\n",
    "a = 1\n",
    "b = a"
   ]
  },
  {
   "cell_type": "code",
   "execution_count": 12,
   "metadata": {},
   "outputs": [],
   "source": [
    "a = a + 1"
   ]
  },
  {
   "cell_type": "code",
   "execution_count": 13,
   "metadata": {},
   "outputs": [
    {
     "name": "stdout",
     "output_type": "stream",
     "text": [
      "a: 2\n",
      "b: 1\n"
     ]
    }
   ],
   "source": [
    "print(f'a: {a}')\n",
    "print(f'b: {b}')"
   ]
  },
  {
   "cell_type": "code",
   "execution_count": 14,
   "metadata": {},
   "outputs": [],
   "source": [
    "# Строки\n",
    "\n",
    "a = 'Hello'\n",
    "b = a"
   ]
  },
  {
   "cell_type": "code",
   "execution_count": 15,
   "metadata": {},
   "outputs": [],
   "source": [
    "a += ' world!'"
   ]
  },
  {
   "cell_type": "code",
   "execution_count": 16,
   "metadata": {},
   "outputs": [
    {
     "name": "stdout",
     "output_type": "stream",
     "text": [
      "a: Hello world!\n",
      "b: Hello\n"
     ]
    }
   ],
   "source": [
    "print(f'a: {a}')\n",
    "print(f'b: {b}')"
   ]
  },
  {
   "cell_type": "markdown",
   "metadata": {},
   "source": [
    "### Правда — переменные как ссылки на \"коробки\", или Изменяемые типы"
   ]
  },
  {
   "cell_type": "code",
   "execution_count": 17,
   "metadata": {},
   "outputs": [],
   "source": [
    "# Списки\n",
    "\n",
    "a = [1, 2, 3]\n",
    "b = a"
   ]
  },
  {
   "cell_type": "code",
   "execution_count": 18,
   "metadata": {},
   "outputs": [],
   "source": [
    "a.append(100)"
   ]
  },
  {
   "cell_type": "code",
   "execution_count": 19,
   "metadata": {},
   "outputs": [
    {
     "name": "stdout",
     "output_type": "stream",
     "text": [
      "a: [1, 2, 3, 100]\n",
      "b: [1, 2, 3, 100]\n"
     ]
    }
   ],
   "source": [
    "print(f'a: {a}')\n",
    "print(f'b: {b}')"
   ]
  },
  {
   "cell_type": "code",
   "execution_count": 20,
   "metadata": {},
   "outputs": [],
   "source": [
    "# Словари\n",
    "\n",
    "a = {'a': 1, 'b': 2}\n",
    "b = a"
   ]
  },
  {
   "cell_type": "code",
   "execution_count": 21,
   "metadata": {},
   "outputs": [],
   "source": [
    "a['c'] = 100"
   ]
  },
  {
   "cell_type": "code",
   "execution_count": 22,
   "metadata": {},
   "outputs": [
    {
     "name": "stdout",
     "output_type": "stream",
     "text": [
      "a: {'a': 1, 'b': 2, 'c': 100}\n",
      "b: {'a': 1, 'b': 2, 'c': 100}\n"
     ]
    }
   ],
   "source": [
    "print(f'a: {a}')\n",
    "print(f'b: {b}')"
   ]
  },
  {
   "cell_type": "code",
   "execution_count": 23,
   "metadata": {},
   "outputs": [],
   "source": [
    "# Чтобы были в самом деле разные, надо создать новый с нуля\n",
    "\n",
    "a = {'a': 1, 'b': 2}\n",
    "b = dict()\n",
    "\n",
    "for key in a:\n",
    "    b[key] = a[key]"
   ]
  },
  {
   "cell_type": "code",
   "execution_count": 24,
   "metadata": {},
   "outputs": [],
   "source": [
    "a['c'] = 100"
   ]
  },
  {
   "cell_type": "code",
   "execution_count": 25,
   "metadata": {},
   "outputs": [
    {
     "name": "stdout",
     "output_type": "stream",
     "text": [
      "a: {'a': 1, 'b': 2, 'c': 100}\n",
      "b: {'a': 1, 'b': 2}\n"
     ]
    }
   ],
   "source": [
    "print(f'a: {a}')\n",
    "print(f'b: {b}')"
   ]
  },
  {
   "cell_type": "markdown",
   "metadata": {},
   "source": [
    "### Передача аргументов в функцию — копирование ссылок"
   ]
  },
  {
   "cell_type": "code",
   "execution_count": 26,
   "metadata": {},
   "outputs": [],
   "source": [
    "# Целые числа (неизменяемый тип — переменные словно \"коробки\")\n",
    "\n",
    "def f(a):\n",
    "    a = a + 1"
   ]
  },
  {
   "cell_type": "code",
   "execution_count": 28,
   "metadata": {},
   "outputs": [],
   "source": [
    "a = 10"
   ]
  },
  {
   "cell_type": "code",
   "execution_count": 29,
   "metadata": {},
   "outputs": [
    {
     "name": "stdout",
     "output_type": "stream",
     "text": [
      "10\n"
     ]
    }
   ],
   "source": [
    "f(a)\n",
    "\n",
    "print(a)"
   ]
  },
  {
   "cell_type": "code",
   "execution_count": 30,
   "metadata": {},
   "outputs": [],
   "source": [
    "# Список (изменяемый тип —\n",
    "#             становится заметна \"ссылочная природа\" переменных)\n",
    "\n",
    "def f(l):\n",
    "    l.append(-17.5)"
   ]
  },
  {
   "cell_type": "code",
   "execution_count": 31,
   "metadata": {},
   "outputs": [],
   "source": [
    "l = [1, 2, 3]"
   ]
  },
  {
   "cell_type": "code",
   "execution_count": 32,
   "metadata": {},
   "outputs": [
    {
     "name": "stdout",
     "output_type": "stream",
     "text": [
      "[1, 2, 3, -17.5]\n"
     ]
    }
   ],
   "source": [
    "f(l)\n",
    "\n",
    "print(l)"
   ]
  }
 ],
 "metadata": {
  "kernelspec": {
   "display_name": "new_python",
   "language": "python",
   "name": "new_python"
  },
  "language_info": {
   "codemirror_mode": {
    "name": "ipython",
    "version": 3
   },
   "file_extension": ".py",
   "mimetype": "text/x-python",
   "name": "python",
   "nbconvert_exporter": "python",
   "pygments_lexer": "ipython3",
   "version": "3.11.0"
  }
 },
 "nbformat": 4,
 "nbformat_minor": 4
}
