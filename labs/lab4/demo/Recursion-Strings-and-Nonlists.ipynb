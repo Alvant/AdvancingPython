{
 "cells": [
  {
   "cell_type": "markdown",
   "metadata": {},
   "source": [
    "# Функции, \"несписки\", строки и картинки на выставку"
   ]
  },
  {
   "cell_type": "markdown",
   "metadata": {},
   "source": [
    "## Рекурсия"
   ]
  },
  {
   "cell_type": "code",
   "execution_count": 1,
   "metadata": {},
   "outputs": [],
   "source": [
    "def f():\n",
    "    print('Hello world!')\n",
    "    \n",
    "    f()  # Рекурсивная: вызывает саму из себя"
   ]
  },
  {
   "cell_type": "code",
   "execution_count": 2,
   "metadata": {},
   "outputs": [],
   "source": [
    "# Можно попробовать вызвать, но всё сломается,\n",
    "# потому что будет \"бесконечно проваливаться\"\n",
    "\n",
    "# f()"
   ]
  },
  {
   "cell_type": "code",
   "execution_count": 3,
   "metadata": {},
   "outputs": [],
   "source": [
    "def f(num_times):\n",
    "    # \"Остановка\" — конец проваливания (база рекурсии)\n",
    "    # После этого начнётся \"подъём\" обратно\n",
    "    if num_times == 0:\n",
    "        return\n",
    "\n",
    "    print('Hello world!')\n",
    "    \n",
    "    f(num_times - 1)  # Спуск \"вглубь\" — прямой ход рекурсии\n",
    "    \n",
    "    print('***')  # После подъёма наверх — обратный ход рекурсии "
   ]
  },
  {
   "cell_type": "code",
   "execution_count": 4,
   "metadata": {},
   "outputs": [
    {
     "name": "stdout",
     "output_type": "stream",
     "text": [
      "Hello world!\n",
      "Hello world!\n",
      "Hello world!\n",
      "***\n",
      "***\n",
      "***\n"
     ]
    }
   ],
   "source": [
    "f(3)"
   ]
  },
  {
   "cell_type": "markdown",
   "metadata": {},
   "source": [
    "### Более осмысленный пример\n",
    "\n",
    "[Числа Фибоначчи](https://ru.wikipedia.org/wiki/%D0%A7%D0%B8%D1%81%D0%BB%D0%B0_%D0%A4%D0%B8%D0%B1%D0%BE%D0%BD%D0%B0%D1%87%D1%87%D0%B8):\n",
    "$$\n",
    "  \\begin{aligned}\n",
    "    &F_0 = 0,\\ F_1 = 1\\\\\n",
    "    &F_n = F_{n - 1} + F_{n - 2},\\ n \\geq 2\n",
    "  \\end{aligned}\n",
    "$$"
   ]
  },
  {
   "cell_type": "code",
   "execution_count": 5,
   "metadata": {},
   "outputs": [],
   "source": [
    "def fib(n):\n",
    "    if n == 0:\n",
    "        return 0\n",
    "\n",
    "    if n == 1:\n",
    "        return 1\n",
    "\n",
    "    return fib(n - 1) + fib(n - 2)"
   ]
  },
  {
   "cell_type": "code",
   "execution_count": 6,
   "metadata": {},
   "outputs": [
    {
     "data": {
      "text/plain": [
       "1"
      ]
     },
     "execution_count": 6,
     "metadata": {},
     "output_type": "execute_result"
    }
   ],
   "source": [
    "fib(2)"
   ]
  },
  {
   "cell_type": "code",
   "execution_count": 7,
   "metadata": {},
   "outputs": [
    {
     "data": {
      "text/plain": [
       "55"
      ]
     },
     "execution_count": 7,
     "metadata": {},
     "output_type": "execute_result"
    }
   ],
   "source": [
    "fib(10)"
   ]
  },
  {
   "cell_type": "code",
   "execution_count": 8,
   "metadata": {},
   "outputs": [
    {
     "data": {
      "text/plain": [
       "2178309"
      ]
     },
     "execution_count": 8,
     "metadata": {},
     "output_type": "execute_result"
    }
   ],
   "source": [
    "fib(32)  # Уже долго. Если взять ещё больше — \"конец\""
   ]
  },
  {
   "cell_type": "markdown",
   "metadata": {},
   "source": [
    "### *Рекурсия с запоминанием (мемоизацией)\n",
    "\n",
    "*Сразу так писать не надо. Если хватает \"обычной\" рекурсии, то и ОК.*"
   ]
  },
  {
   "cell_type": "code",
   "execution_count": 9,
   "metadata": {},
   "outputs": [],
   "source": [
    "# Часть логики функции (значения базы рекурсии)\n",
    "# определена \"вне\" функции.\n",
    "# Это не очень хорошо, но что делать)\n",
    "# так хотя бы должно заработать для больших чисел n.\n",
    "values = [0, 1]\n",
    "\n",
    "def fib(n):\n",
    "    if n == 0 or n == 1:\n",
    "        return values[n]\n",
    "\n",
    "    if len(values) >= n + 1:\n",
    "        return values[n]\n",
    "    \n",
    "    new_fib = fib(n - 1) + fib(n - 2)\n",
    "    values.append(new_fib)  # Скорее всего, встанет на нужное место :)\n",
    "    \n",
    "    return new_fib"
   ]
  },
  {
   "cell_type": "code",
   "execution_count": 10,
   "metadata": {},
   "outputs": [
    {
     "data": {
      "text/plain": [
       "1"
      ]
     },
     "execution_count": 10,
     "metadata": {},
     "output_type": "execute_result"
    }
   ],
   "source": [
    "fib(2)"
   ]
  },
  {
   "cell_type": "code",
   "execution_count": 11,
   "metadata": {},
   "outputs": [
    {
     "data": {
      "text/plain": [
       "55"
      ]
     },
     "execution_count": 11,
     "metadata": {},
     "output_type": "execute_result"
    }
   ],
   "source": [
    "fib(10)"
   ]
  },
  {
   "cell_type": "code",
   "execution_count": 12,
   "metadata": {},
   "outputs": [
    {
     "data": {
      "text/plain": [
       "2178309"
      ]
     },
     "execution_count": 12,
     "metadata": {},
     "output_type": "execute_result"
    }
   ],
   "source": [
    "fib(32)  # Мгновенно"
   ]
  },
  {
   "cell_type": "markdown",
   "metadata": {},
   "source": [
    "## \"Несписки\""
   ]
  },
  {
   "cell_type": "code",
   "execution_count": 13,
   "metadata": {},
   "outputs": [],
   "source": [
    "def is_yes(answer):\n",
    "    answer = answer.strip().lower()\n",
    "\n",
    "    return (\n",
    "        answer.startswith('д')\n",
    "            or answer.startswith('y')\n",
    "            or answer.startswith('+')\n",
    "    )"
   ]
  },
  {
   "cell_type": "code",
   "execution_count": 14,
   "metadata": {},
   "outputs": [
    {
     "name": "stdout",
     "output_type": "stream",
     "text": [
      "Коллекция элементов...\n",
      "\n",
      "Упорядоченная? (да/нет)\n",
      "нет\n",
      "Изменяемая? (да/нет)\n",
      "да\n",
      "\n",
      "Неупорядоченная, изменяемая:\n",
      "Множество (set)\n"
     ]
    }
   ],
   "source": [
    "print('Коллекция элементов...')\n",
    "print()\n",
    "\n",
    "order = input('Упорядоченная? (да/нет)\\n')\n",
    "mutability = input('Изменяемая? (да/нет)\\n')\n",
    "\n",
    "is_ordered = is_yes(order)\n",
    "is_mutable = is_yes(mutability)\n",
    "\n",
    "print()\n",
    "\n",
    "if is_ordered:\n",
    "    if is_mutable:\n",
    "        print('Упорядоченная, изменяемая:\\n'\n",
    "              'Список (list)')\n",
    "    else:\n",
    "        print('Упорядоченная, неизменяемая:\\n'\n",
    "              'Кортеж (tuple)')\n",
    "else:\n",
    "    if is_mutable:\n",
    "        print('Неупорядоченная, изменяемая:\\n'\n",
    "              'Множество (set)')\n",
    "    else:\n",
    "        print('Неупорядоченная, неизменяемая:\\n'\n",
    "              '\"Замороженное множество\" (frozenset)')"
   ]
  },
  {
   "cell_type": "markdown",
   "metadata": {},
   "source": [
    "### Tuple\n",
    "\n",
    "\"Неизменяемый набор характеристик объекта\""
   ]
  },
  {
   "cell_type": "code",
   "execution_count": 15,
   "metadata": {},
   "outputs": [
    {
     "name": "stdout",
     "output_type": "stream",
     "text": [
      "(1, 2, 3)\n"
     ]
    }
   ],
   "source": [
    "# Создание\n",
    "\n",
    "t1 = (1, 2, 3)\n",
    "t2 = tuple([1, 2, 3])\n",
    "\n",
    "print(t1)"
   ]
  },
  {
   "cell_type": "code",
   "execution_count": 16,
   "metadata": {},
   "outputs": [
    {
     "name": "stdout",
     "output_type": "stream",
     "text": [
      "1\n"
     ]
    }
   ],
   "source": [
    "# Обращение по индексу\n",
    "\n",
    "t = (1, 2, 3)\n",
    "\n",
    "print(t[0])"
   ]
  },
  {
   "cell_type": "code",
   "execution_count": 17,
   "metadata": {},
   "outputs": [
    {
     "ename": "TypeError",
     "evalue": "'tuple' object does not support item assignment",
     "output_type": "error",
     "traceback": [
      "\u001b[1;31m---------------------------------------------------------------------------\u001b[0m",
      "\u001b[1;31mTypeError\u001b[0m                                 Traceback (most recent call last)",
      "\u001b[1;32m<ipython-input-17-bb1ba7bab04b>\u001b[0m in \u001b[0;36m<module>\u001b[1;34m\u001b[0m\n\u001b[0;32m      3\u001b[0m \u001b[0mt\u001b[0m \u001b[1;33m=\u001b[0m \u001b[1;33m(\u001b[0m\u001b[1;36m1\u001b[0m\u001b[1;33m,\u001b[0m \u001b[1;36m2\u001b[0m\u001b[1;33m,\u001b[0m \u001b[1;36m3\u001b[0m\u001b[1;33m)\u001b[0m\u001b[1;33m\u001b[0m\u001b[1;33m\u001b[0m\u001b[0m\n\u001b[0;32m      4\u001b[0m \u001b[1;33m\u001b[0m\u001b[0m\n\u001b[1;32m----> 5\u001b[1;33m \u001b[0mt\u001b[0m\u001b[1;33m[\u001b[0m\u001b[1;36m0\u001b[0m\u001b[1;33m]\u001b[0m \u001b[1;33m=\u001b[0m \u001b[1;36m100\u001b[0m\u001b[1;33m\u001b[0m\u001b[1;33m\u001b[0m\u001b[0m\n\u001b[0m",
      "\u001b[1;31mTypeError\u001b[0m: 'tuple' object does not support item assignment"
     ]
    }
   ],
   "source": [
    "# Неизменяемый\n",
    "\n",
    "t = (1, 2, 3)\n",
    "\n",
    "t[0] = 100"
   ]
  },
  {
   "cell_type": "code",
   "execution_count": 19,
   "metadata": {},
   "outputs": [
    {
     "data": {
      "image/png": "[encoded data removed]",
      "text/plain": [
       "<Figure size 432x288 with 1 Axes>"
      ]
     },
     "metadata": {
      "needs_background": "light"
     },
     "output_type": "display_data"
    }
   ],
   "source": [
    "# Более осмысленный пример\n",
    "\n",
    "import matplotlib.pyplot as plt\n",
    "\n",
    "color = (250 / 255, 37 / 255, 154 / 255)\n",
    "\n",
    "plt.plot([1], [1], marker='s', markersize=100, color=color)\n",
    "plt.show()"
   ]
  },
  {
   "cell_type": "markdown",
   "metadata": {},
   "source": [
    "### Set"
   ]
  },
  {
   "cell_type": "code",
   "execution_count": 20,
   "metadata": {},
   "outputs": [
    {
     "name": "stdout",
     "output_type": "stream",
     "text": [
      "{1, 2, 3}\n"
     ]
    }
   ],
   "source": [
    "# Создание\n",
    "\n",
    "s = set([1, 2, 3])\n",
    "\n",
    "print(s)"
   ]
  },
  {
   "cell_type": "code",
   "execution_count": 21,
   "metadata": {},
   "outputs": [
    {
     "name": "stdout",
     "output_type": "stream",
     "text": [
      "{1, 2, 3, 17.5}\n"
     ]
    }
   ],
   "source": [
    "# Добавление\n",
    "\n",
    "s = set([1, 2, 3])\n",
    "s.add(17.5)  # \"Просто\" добавить, не в конец, так как нет порядка\n",
    "\n",
    "print(s)"
   ]
  },
  {
   "cell_type": "code",
   "execution_count": 22,
   "metadata": {},
   "outputs": [
    {
     "ename": "TypeError",
     "evalue": "'set' object does not support indexing",
     "output_type": "error",
     "traceback": [
      "\u001b[1;31m---------------------------------------------------------------------------\u001b[0m",
      "\u001b[1;31mTypeError\u001b[0m                                 Traceback (most recent call last)",
      "\u001b[1;32m<ipython-input-22-1d5c27bf1af1>\u001b[0m in \u001b[0;36m<module>\u001b[1;34m\u001b[0m\n\u001b[0;32m      3\u001b[0m \u001b[0ms\u001b[0m \u001b[1;33m=\u001b[0m \u001b[0mset\u001b[0m\u001b[1;33m(\u001b[0m\u001b[1;33m[\u001b[0m\u001b[1;36m1\u001b[0m\u001b[1;33m,\u001b[0m \u001b[1;36m2\u001b[0m\u001b[1;33m,\u001b[0m \u001b[1;36m3\u001b[0m\u001b[1;33m]\u001b[0m\u001b[1;33m)\u001b[0m\u001b[1;33m\u001b[0m\u001b[1;33m\u001b[0m\u001b[0m\n\u001b[0;32m      4\u001b[0m \u001b[1;33m\u001b[0m\u001b[0m\n\u001b[1;32m----> 5\u001b[1;33m \u001b[0mprint\u001b[0m\u001b[1;33m(\u001b[0m\u001b[0ms\u001b[0m\u001b[1;33m[\u001b[0m\u001b[1;36m0\u001b[0m\u001b[1;33m]\u001b[0m\u001b[1;33m)\u001b[0m\u001b[1;33m\u001b[0m\u001b[1;33m\u001b[0m\u001b[0m\n\u001b[0m",
      "\u001b[1;31mTypeError\u001b[0m: 'set' object does not support indexing"
     ]
    }
   ],
   "source": [
    "# Нет порядка\n",
    "\n",
    "s = set([1, 2, 3])\n",
    "\n",
    "print(s[0])"
   ]
  },
  {
   "cell_type": "code",
   "execution_count": 23,
   "metadata": {},
   "outputs": [
    {
     "name": "stdout",
     "output_type": "stream",
     "text": [
      "{1, 2, 3, -17.5}\n"
     ]
    }
   ],
   "source": [
    "# Множество — коллекция уникальных элементов\n",
    "\n",
    "s = set([1, 2, 3])\n",
    "\n",
    "s.add(-17.5)\n",
    "s.add(-17.5)\n",
    "s.add(-17.5)\n",
    "\n",
    "print(s)"
   ]
  },
  {
   "cell_type": "code",
   "execution_count": 24,
   "metadata": {},
   "outputs": [
    {
     "data": {
      "text/plain": [
       "True"
      ]
     },
     "execution_count": 24,
     "metadata": {},
     "output_type": "execute_result"
    }
   ],
   "source": [
    "# Поиск элемента во множестве\n",
    "\n",
    "s = set([1, 2, 3])\n",
    "\n",
    "3 in s"
   ]
  },
  {
   "cell_type": "code",
   "execution_count": 25,
   "metadata": {},
   "outputs": [],
   "source": [
    "# Поиск элемента во множестве работает быстрее, чем в списке\n",
    "# (несмотря на то, что множество — это \"неупорядоченная куча\")\n",
    "\n",
    "big_list = list()\n",
    "big_set = set()\n",
    "\n",
    "max_value = 10 ** 7\n",
    "\n",
    "for i in range(max_value + 1):\n",
    "    big_list.append(i)\n",
    "    big_set.add(i)"
   ]
  },
  {
   "cell_type": "code",
   "execution_count": 26,
   "metadata": {},
   "outputs": [
    {
     "name": "stdout",
     "output_type": "stream",
     "text": [
      "Searching in list...\n",
      "Finished list.\n",
      "Searching in set...\n",
      "Finished set.\n"
     ]
    }
   ],
   "source": [
    "num_search_times = 10 ** 2\n",
    "\n",
    "print('Searching in list...')\n",
    "\n",
    "for i in range(num_search_times):\n",
    "    max_value in big_list\n",
    "\n",
    "print('Finished list.')\n",
    "print('Searching in set...')\n",
    "\n",
    "for i in range(num_search_times):\n",
    "    max_value in big_set\n",
    "\n",
    "print('Finished set.')"
   ]
  },
  {
   "cell_type": "markdown",
   "metadata": {},
   "source": [
    "## Строки"
   ]
  },
  {
   "cell_type": "code",
   "execution_count": 27,
   "metadata": {},
   "outputs": [
    {
     "name": "stdout",
     "output_type": "stream",
     "text": [
      "Hello world!\n"
     ]
    }
   ],
   "source": [
    "# Создание\n",
    "\n",
    "s1 = 'Hello world!'\n",
    "s2 = \"Hello world!\"\n",
    "\n",
    "s3 = \"\"\"Hello\n",
    "world!\"\"\"\n",
    "\n",
    "print(s1)"
   ]
  },
  {
   "cell_type": "code",
   "execution_count": 28,
   "metadata": {},
   "outputs": [
    {
     "name": "stdout",
     "output_type": "stream",
     "text": [
      "Hello world!\n",
      "Hi!!!\n"
     ]
    }
   ],
   "source": [
    "# Операции\n",
    "\n",
    "s1 = 'Hello' + ' world!'\n",
    "\n",
    "print(s1)\n",
    "\n",
    "s2 = 'Hi' + 3 * '!'\n",
    "\n",
    "print(s2)"
   ]
  },
  {
   "cell_type": "code",
   "execution_count": 29,
   "metadata": {},
   "outputs": [
    {
     "name": "stdout",
     "output_type": "stream",
     "text": [
      "'a' < 'b': True\n",
      "'aa' < 'ab': True\n",
      "'abc' < 'ab': False\n",
      "'a' < 'A': False\n",
      "Код символа \"a\": 97\n",
      "Код символа \"A\": 65\n"
     ]
    }
   ],
   "source": [
    "# Сравнение\n",
    "\n",
    "print(\"'a' < 'b':\", 'a' < 'b')       # символы \"по алфавиту\"\n",
    "print(\"'aa' < 'ab':\", 'aa' < 'ab')   # лексикографически, как в словаре\n",
    "print(\"'abc' < 'ab':\", 'aba' < 'ab') # если по длине больше, то и больше\n",
    "\n",
    "# А вообще — сравниваются коды символов\n",
    "print(\"'a' < 'A':\", 'a' < 'A')\n",
    "print('Код символа \"a\":', ord('a'))\n",
    "print('Код символа \"A\":', ord('A'))"
   ]
  },
  {
   "cell_type": "code",
   "execution_count": 30,
   "metadata": {},
   "outputs": [
    {
     "name": "stdout",
     "output_type": "stream",
     "text": [
      "e\n"
     ]
    }
   ],
   "source": [
    "# Обращение по индексу\n",
    "\n",
    "s = 'Hello world!'\n",
    "\n",
    "print(s[1])"
   ]
  },
  {
   "cell_type": "code",
   "execution_count": 31,
   "metadata": {},
   "outputs": [
    {
     "ename": "TypeError",
     "evalue": "'str' object does not support item assignment",
     "output_type": "error",
     "traceback": [
      "\u001b[1;31m---------------------------------------------------------------------------\u001b[0m",
      "\u001b[1;31mTypeError\u001b[0m                                 Traceback (most recent call last)",
      "\u001b[1;32m<ipython-input-31-9eea24bdab54>\u001b[0m in \u001b[0;36m<module>\u001b[1;34m\u001b[0m\n\u001b[0;32m      3\u001b[0m \u001b[0ms\u001b[0m \u001b[1;33m=\u001b[0m \u001b[1;34m'Hello world!'\u001b[0m\u001b[1;33m\u001b[0m\u001b[1;33m\u001b[0m\u001b[0m\n\u001b[0;32m      4\u001b[0m \u001b[1;33m\u001b[0m\u001b[0m\n\u001b[1;32m----> 5\u001b[1;33m \u001b[0ms\u001b[0m\u001b[1;33m[\u001b[0m\u001b[1;36m1\u001b[0m\u001b[1;33m]\u001b[0m \u001b[1;33m=\u001b[0m \u001b[1;34m'o'\u001b[0m\u001b[1;33m\u001b[0m\u001b[1;33m\u001b[0m\u001b[0m\n\u001b[0m",
      "\u001b[1;31mTypeError\u001b[0m: 'str' object does not support item assignment"
     ]
    }
   ],
   "source": [
    "# Неизменяемость (строки — как кортежи из символов)\n",
    "\n",
    "s = 'Hello world!'\n",
    "\n",
    "s[1] = 'o'"
   ]
  },
  {
   "cell_type": "code",
   "execution_count": 32,
   "metadata": {},
   "outputs": [
    {
     "name": "stdout",
     "output_type": "stream",
     "text": [
      "HELP!\n",
      "HELL!\n"
     ]
    }
   ],
   "source": [
    "# Но можно создать новую строку\n",
    "\n",
    "s = 'HELP!'\n",
    "new_s = s.replace('P', 'L')\n",
    "\n",
    "print(s)\n",
    "print(new_s)"
   ]
  },
  {
   "cell_type": "markdown",
   "metadata": {},
   "source": [
    "<img src=\"./images/Help_or_Hell.jpg\" width=\"80%\">\n",
    "                                            \n",
    "<p style='text-align: center;'>\n",
    "  <a href=\"https://www.deviantart.com/ebotizer/art/Help-or-Hell-Madagascar-975290417\">\n",
    "      <em>https://www.deviantart.com/ebotizer/art/Help-or-Hell-Madagascar-975290417</em>\n",
    "  </a>\n",
    "</p>"
   ]
  },
  {
   "cell_type": "code",
   "execution_count": 33,
   "metadata": {},
   "outputs": [
    {
     "name": "stdout",
     "output_type": "stream",
     "text": [
      "Hi, Barbie! It's the morning of September 24, and you look beautiful!\n",
      "Hi, Barbie! It's the morning of September 24, and you look beautiful!\n",
      "Hi, Barbie! It's the morning of September 24, and you look beautiful!\n"
     ]
    }
   ],
   "source": [
    "# Вставка значения в строку\n",
    "\n",
    "name = 'Barbie'\n",
    "look = 'beautiful'\n",
    "month = 'September'\n",
    "day = 24\n",
    "\n",
    "print(\n",
    "    'Hi,' + ' ' + name + '! ' + 'It\\'s the morning of ' + month + ' ' + str(day) + ', and you look ' + look + '!'\n",
    ")\n",
    "print(\n",
    "    'Hi, {}! It\\'s the morning of {} {}, and you look {}!'.format(name, month, day, look)\n",
    ")\n",
    "print(\n",
    "    f'Hi, {name}! It\\'s the morning of {month} {day}, and you look {look}!'\n",
    ")"
   ]
  },
  {
   "cell_type": "code",
   "execution_count": 34,
   "metadata": {},
   "outputs": [
    {
     "name": "stdout",
     "output_type": "stream",
     "text": [
      "upper: HELLO WORLD!\n",
      "lower: hello world!\n"
     ]
    }
   ],
   "source": [
    "# Строка — не просто набор символов\n",
    "\n",
    "s = 'Hello world!'\n",
    "\n",
    "print('upper:', s.upper())\n",
    "print('lower:', s.lower())"
   ]
  },
  {
   "cell_type": "code",
   "execution_count": 35,
   "metadata": {},
   "outputs": [
    {
     "name": "stdout",
     "output_type": "stream",
     "text": [
      "split: ['Hello', 'world!']\n"
     ]
    }
   ],
   "source": [
    "s = 'Hello world!'\n",
    "words = s.split()\n",
    "\n",
    "print('split:', words)"
   ]
  },
  {
   "cell_type": "code",
   "execution_count": 36,
   "metadata": {},
   "outputs": [
    {
     "name": "stdout",
     "output_type": "stream",
     "text": [
      "split: ['Hello', 'world!']\n"
     ]
    }
   ],
   "source": [
    "s = 'Hello   \\n\\n\\n   world!'\n",
    "words = s.split()\n",
    "\n",
    "print('split:', words)"
   ]
  },
  {
   "cell_type": "code",
   "execution_count": 37,
   "metadata": {},
   "outputs": [
    {
     "name": "stdout",
     "output_type": "stream",
     "text": [
      "split: ['Hello', 'world!']\n"
     ]
    }
   ],
   "source": [
    "s = 'Hello.world!'\n",
    "words = s.split('.')\n",
    "\n",
    "print('split:', words)"
   ]
  },
  {
   "cell_type": "code",
   "execution_count": 38,
   "metadata": {},
   "outputs": [
    {
     "name": "stdout",
     "output_type": "stream",
     "text": [
      "Hello world!\n"
     ]
    }
   ],
   "source": [
    "# \"Антипод\" split-а\n",
    "\n",
    "words = ['Hello', 'world!']\n",
    "s = ' '.join(words)\n",
    "\n",
    "print(s)"
   ]
  },
  {
   "cell_type": "code",
   "execution_count": 42,
   "metadata": {},
   "outputs": [
    {
     "name": "stdout",
     "output_type": "stream",
     "text": [
      "Hello_world!\n"
     ]
    }
   ],
   "source": [
    "words = ['Hello', 'world!']\n",
    "s = '_'.join(words)\n",
    "\n",
    "print(s)"
   ]
  }
 ],
 "metadata": {
  "kernelspec": {
   "display_name": "Python 3",
   "language": "python",
   "name": "python3"
  },
  "language_info": {
   "codemirror_mode": {
    "name": "ipython",
    "version": 3
   },
   "file_extension": ".py",
   "mimetype": "text/x-python",
   "name": "python",
   "nbconvert_exporter": "python",
   "pygments_lexer": "ipython3",
   "version": "3.6.7"
  }
 },
 "nbformat": 4,
 "nbformat_minor": 4
}
