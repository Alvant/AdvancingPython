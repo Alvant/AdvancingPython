{
 "cells": [
  {
   "cell_type": "markdown",
   "metadata": {},
   "source": [
    "# ООП\n",
    "\n",
    "Моделирование взаимодействия между сущностями."
   ]
  },
  {
   "cell_type": "markdown",
   "metadata": {},
   "source": [
    "## Колобок без всего\n",
    "\n",
    "Относительно быстро пишется, но не очень понятно и неудобно пользоваться."
   ]
  },
  {
   "cell_type": "code",
   "execution_count": 1,
   "metadata": {},
   "outputs": [],
   "source": [
    "kolobok = ('Колобок', [True], ['Бабушки', 'Дедушки'])\n",
    "hare = ('Заяц', 'Зайца', 'серый')\n",
    "wolf = ('Волк', 'Волка', 'страшный')\n",
    "bear = ('Медведь', 'Медведя', 'большой')\n",
    "fox = ('Лиса', 'Лисы', 'хитрая')"
   ]
  },
  {
   "cell_type": "code",
   "execution_count": 2,
   "metadata": {},
   "outputs": [
    {
     "name": "stdout",
     "output_type": "stream",
     "text": [
      "Колобок, Колобок, я тебя съем!\n",
      "Не ешь меня, Заяц! Я от Бабушки ушёл, и от Дедушки ушёл. А от тебя, Заяц, и подавно уйду!\n",
      "\n",
      "Качусь дальше...\n",
      "\n",
      "Колобок, Колобок, я тебя съем!\n",
      "Не ешь меня, Волк! Я от Бабушки ушёл, и от Дедушки ушёл, и от Зайца ушёл. А от тебя, Волк, и подавно уйду!\n",
      "\n",
      "Качусь дальше...\n",
      "\n",
      "Колобок, Колобок, я тебя съем!\n",
      "Не ешь меня, Медведь! Я от Бабушки ушёл, и от Дедушки ушёл, и от Зайца ушёл, и от Волка ушёл. А от тебя, Медведь, и подавно уйду!\n",
      "\n",
      "Качусь дальше...\n",
      "\n",
      "Колобок, Колобок, я тебя съем!\n",
      "Не ешь меня, Лиса! Я от Бабушки ушёл, и от Дедушки ушёл, и от Зайца ушёл, и от Волка ушёл, и от Медведя ушёл. А от тебя, Лиса, и подавно уйду!\n",
      "\n",
      "x_X\n"
     ]
    }
   ],
   "source": [
    "for animal in [hare, wolf, bear, fox]:\n",
    "    if kolobok[1][0]:\n",
    "        print(\n",
    "            f'{kolobok[0]}, {kolobok[0]}, я тебя съем!'\n",
    "        )\n",
    "        print(\n",
    "            f'Не ешь меня, {animal[0]}!'\n",
    "            f' Я от ' + ' ушёл, и от '.join(kolobok[2]) + ' ушёл.'\n",
    "            f' А от тебя, {animal[0]}, и подавно уйду!'\n",
    "        )\n",
    "    else:\n",
    "        print('x_X')\n",
    "\n",
    "    if animal[0] != 'Лиса':\n",
    "        kolobok[2].append(animal[1])\n",
    "    else:\n",
    "        kolobok[1][0] = False\n",
    "    \n",
    "    if kolobok[1][0]:\n",
    "        print('\\nКачусь дальше...\\n')\n",
    "    else:\n",
    "        print('\\nx_X')"
   ]
  },
  {
   "cell_type": "markdown",
   "metadata": {},
   "source": [
    "## Процедурный Колобок\n",
    "\n",
    "Лучше, стало понятнее (основной код), сложность и детали ушли в функции, но сущности (персонажи сказки) всё равно выглядят \"отталкивающе\"."
   ]
  },
  {
   "cell_type": "code",
   "execution_count": 3,
   "metadata": {},
   "outputs": [],
   "source": [
    "kolobok = ('Колобок', [True], ['Бабушки', 'Дедушки'])\n",
    "hare = ('Заяц', 'Зайца', 'серый')\n",
    "wolf = ('Волк', 'Волка', 'страшный')\n",
    "bear = ('Медведь', 'Медведя', 'большой')\n",
    "fox = ('Лиса', 'Лисы', 'хитрая')"
   ]
  },
  {
   "cell_type": "code",
   "execution_count": 4,
   "metadata": {},
   "outputs": [],
   "source": [
    "def greet(animal, kolobok):\n",
    "    print(\n",
    "        f'{kolobok[0]}, {kolobok[0]}, я тебя съем!'\n",
    "    )\n",
    "\n",
    "def boast(kolobok, animal):\n",
    "    if kolobok[1][0]:\n",
    "        print(\n",
    "            f'Не ешь меня, {animal[0]}!'\n",
    "            f' Я от ' + ' ушёл, и от '.join(kolobok[2]) + ' ушёл.'\n",
    "            f' А от тебя, {animal[0]}, и подавно уйду!'\n",
    "        )\n",
    "    else:\n",
    "        print('💀')\n",
    "\n",
    "def meet(animal, kolobok):\n",
    "    if animal[0] != 'Лиса':\n",
    "        kolobok[2].append(animal[1])\n",
    "    else:\n",
    "        kolobok[1][0] = False\n",
    "\n",
    "def run_further(kolobok):\n",
    "    if kolobok[1][0]:\n",
    "        print(f'\\n🟡 🥯 🛞 🏃 🏞️\\n')\n",
    "    else:\n",
    "        print('\\n💀')"
   ]
  },
  {
   "cell_type": "code",
   "execution_count": 5,
   "metadata": {},
   "outputs": [
    {
     "name": "stdout",
     "output_type": "stream",
     "text": [
      "Колобок, Колобок, я тебя съем!\n",
      "Не ешь меня, Заяц! Я от Бабушки ушёл, и от Дедушки ушёл. А от тебя, Заяц, и подавно уйду!\n",
      "\n",
      "🟡 🥯 🛞 🏃 🏞️\n",
      "\n",
      "Колобок, Колобок, я тебя съем!\n",
      "Не ешь меня, Волк! Я от Бабушки ушёл, и от Дедушки ушёл, и от Зайца ушёл. А от тебя, Волк, и подавно уйду!\n",
      "\n",
      "🟡 🥯 🛞 🏃 🏞️\n",
      "\n",
      "Колобок, Колобок, я тебя съем!\n",
      "Не ешь меня, Медведь! Я от Бабушки ушёл, и от Дедушки ушёл, и от Зайца ушёл, и от Волка ушёл. А от тебя, Медведь, и подавно уйду!\n",
      "\n",
      "🟡 🥯 🛞 🏃 🏞️\n",
      "\n",
      "Колобок, Колобок, я тебя съем!\n",
      "Не ешь меня, Лиса! Я от Бабушки ушёл, и от Дедушки ушёл, и от Зайца ушёл, и от Волка ушёл, и от Медведя ушёл. А от тебя, Лиса, и подавно уйду!\n",
      "\n",
      "💀\n"
     ]
    }
   ],
   "source": [
    "for animal in [hare, wolf, bear, fox]:\n",
    "    greet(animal, kolobok)\n",
    "    boast(kolobok, animal)\n",
    "    meet(animal, kolobok)\n",
    "    run_further(kolobok)"
   ]
  },
  {
   "cell_type": "markdown",
   "metadata": {},
   "source": [
    "# Объектно-ориентированный Колобок\n",
    "\n",
    "Больше всего предварительной работы (по созданию *классов*; работы как механической, чтоб просто всё написать, так и \"мыслительной\", чтоб продумать связи).\n",
    "Но с сущностями (*объектами*) становится удобнее работать.\n",
    "\n",
    "---\n",
    "\n",
    "Класс — шаблон сущности, содержит в себе *методы* (что сущность умеет делать) и *поля*, или *атрибуты* (чем она характеризуется).\n",
    "\n",
    "Объект — сущность, \"нечто\", созданное по шаблону.\n",
    "\n",
    "Таким образом, объекты объединяют в себе одновременно и данные (поля), и функции (методы)."
   ]
  },
  {
   "cell_type": "code",
   "execution_count": 6,
   "metadata": {},
   "outputs": [],
   "source": [
    "class Kolobok:\n",
    "    # Особый метод — конструктор: инициализация (\"заполнение\") объекта\n",
    "    # self — особый параметр, ссылка на создаваемый объект\n",
    "    def __init__(self, defeated=None):\n",
    "        self.name = 'Колобок'  # Константное поле\n",
    "        self.alive = True  # Считаем, что всегда создаётся живым, то есть не надо передевать в конструктор такой параметр\n",
    "\n",
    "        if defeated is None:\n",
    "            self.defeated = list()\n",
    "        else:\n",
    "            self.defeated = defeated\n",
    "\n",
    "        # \"Приватные\" поля (они есть, но про них вообще \"не надо\" знать извне)\n",
    "        # (Инкапсуляция — класс может содержать внутри много всего, что нужно для его работы, но не все детали надо \"раскрывать\")\n",
    "        self._skull_phrase = '💀'\n",
    "        self._running_away_phrase = '🟡 🥯 🛞 🏃 🏞️'\n",
    "        \n",
    "    def boast(self, animal):\n",
    "        if not self.alive:\n",
    "            print(f'{self._skull_phrase}')\n",
    "\n",
    "            return\n",
    "\n",
    "        print(\n",
    "            f'Не ешь меня, {animal.name}!'\n",
    "            f' Я от ' + ' ушёл, и от '.join(\n",
    "                self._defeated_names_genitive()) + ' ушёл.'\n",
    "            f' А от тебя, {animal.name}, и подавно уйду!'\n",
    "        )\n",
    "    \n",
    "    def run_further(self):\n",
    "        if not self.alive:\n",
    "            print(f'\\n{self._skull_phrase}')\n",
    "        else:\n",
    "            print(f'\\n{self._running_away_phrase}\\n')\n",
    "    \n",
    "    def _defeated_names_genitive(self):\n",
    "        return [\n",
    "            d.name_genitive for d in self.defeated\n",
    "        ]\n",
    "\n",
    "\n",
    "\n",
    "class Animal:\n",
    "    def __init__(self, name, name_genitive, quality):\n",
    "        self.name = name\n",
    "        self.name_genitive = name_genitive\n",
    "        self.quality = quality\n",
    "    \n",
    "    def greet(self, kolobok):\n",
    "        print(\n",
    "            f'{kolobok.name}, {kolobok.name}, я тебя съем!'\n",
    "        )\n",
    "\n",
    "    def meet(self, kolobok):\n",
    "        kolobok.defeated.append(self)\n",
    "\n",
    "\n",
    "# Наследование — всё, что есть в классе-родителе, переходит в дочерний класс\n",
    "class Human(Animal):\n",
    "    \n",
    "    # Переписываем конструктор родителя (будет новый конструктор)\n",
    "    def __init__(self, name, name_genitive, quality=None):\n",
    "        super().__init__(name, name_genitive, quality)  # Вызов родительского конструктора\n",
    "\n",
    "\n",
    "class Hare(Animal):\n",
    "    def __init__(self, quality):\n",
    "        super().__init__('Заяц', 'Зайца', quality)\n",
    "\n",
    "\n",
    "class Wolf(Animal):\n",
    "    def __init__(self, quality):\n",
    "        super().__init__('Волк', 'Волка', quality)\n",
    "\n",
    "\n",
    "class Bear(Animal):\n",
    "    def __init__(self, quality):\n",
    "        super().__init__('Медведь', 'Медведя', quality)\n",
    "\n",
    "\n",
    "class Fox(Animal):\n",
    "    def __init__(self, quality):\n",
    "        super().__init__('Лиса', 'Лисы', quality)\n",
    "    \n",
    "    # Переписываем метод meet родителя\n",
    "    # (Полиморфизм — у всех животных есть метод meet, но логика работы этого метода у разных животных разная)\n",
    "    def meet(self, kolobok):\n",
    "        kolobok.alive = False"
   ]
  },
  {
   "cell_type": "code",
   "execution_count": 7,
   "metadata": {},
   "outputs": [],
   "source": [
    "granny = Human('Бабушка', 'Бабушки')\n",
    "grandpa = Human('Дедушка', 'Дедушки')\n",
    "kolobok = Kolobok(defeated=[granny, grandpa])\n",
    "\n",
    "hare = Hare('серый')\n",
    "wolf = Wolf('страшный')\n",
    "bear = Bear('большой')\n",
    "fox = Fox('хитрая')"
   ]
  },
  {
   "cell_type": "code",
   "execution_count": 8,
   "metadata": {},
   "outputs": [
    {
     "name": "stdout",
     "output_type": "stream",
     "text": [
      "Колобок, Колобок, я тебя съем!\n",
      "Не ешь меня, Заяц! Я от Бабушки ушёл, и от Дедушки ушёл. А от тебя, Заяц, и подавно уйду!\n",
      "\n",
      "🟡 🥯 🛞 🏃 🏞️\n",
      "\n",
      "Колобок, Колобок, я тебя съем!\n",
      "Не ешь меня, Волк! Я от Бабушки ушёл, и от Дедушки ушёл, и от Зайца ушёл. А от тебя, Волк, и подавно уйду!\n",
      "\n",
      "🟡 🥯 🛞 🏃 🏞️\n",
      "\n",
      "Колобок, Колобок, я тебя съем!\n",
      "Не ешь меня, Медведь! Я от Бабушки ушёл, и от Дедушки ушёл, и от Зайца ушёл, и от Волка ушёл. А от тебя, Медведь, и подавно уйду!\n",
      "\n",
      "🟡 🥯 🛞 🏃 🏞️\n",
      "\n",
      "Колобок, Колобок, я тебя съем!\n",
      "Не ешь меня, Лиса! Я от Бабушки ушёл, и от Дедушки ушёл, и от Зайца ушёл, и от Волка ушёл, и от Медведя ушёл. А от тебя, Лиса, и подавно уйду!\n",
      "\n",
      "💀\n"
     ]
    }
   ],
   "source": [
    "for animal in [hare, wolf, bear, fox]:\n",
    "    animal.greet(kolobok)\n",
    "    kolobok.boast(animal)\n",
    "    animal.meet(kolobok)\n",
    "    kolobok.run_further()"
   ]
  }
 ],
 "metadata": {
  "kernelspec": {
   "display_name": "Python 3",
   "language": "python",
   "name": "python3"
  },
  "language_info": {
   "codemirror_mode": {
    "name": "ipython",
    "version": 3
   },
   "file_extension": ".py",
   "mimetype": "text/x-python",
   "name": "python",
   "nbconvert_exporter": "python",
   "pygments_lexer": "ipython3",
   "version": "3.8.11"
  }
 },
 "nbformat": 4,
 "nbformat_minor": 4
}
