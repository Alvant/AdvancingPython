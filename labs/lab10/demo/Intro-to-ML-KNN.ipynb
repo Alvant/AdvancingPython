{
 "cells": [
  {
   "cell_type": "markdown",
   "metadata": {},
   "source": [
    "# Intro to ML: KNN\n",
    "\n",
    "[Ссылка на теорию](https://web.archive.org/web/20221002034553/http://machinelearning.ru/wiki/index.php?title=%D0%9C%D0%B0%D1%88%D0%B8%D0%BD%D0%BD%D0%BE%D0%B5_%D0%BE%D0%B1%D1%83%D1%87%D0%B5%D0%BD%D0%B8%D0%B5_(%D0%BA%D1%83%D1%80%D1%81_%D0%BB%D0%B5%D0%BA%D1%86%D0%B8%D0%B9%2C_%D0%9A.%D0%92.%D0%92%D0%BE%D1%80%D0%BE%D0%BD%D1%86%D0%BE%D0%B2)#.D0.9E.D1.81.D0.BD.D0.BE.D0.B2.D0.BD.D1.8B.D0.B5_.D0.BF.D0.BE.D0.BD.D1.8F.D1.82.D0.B8.D1.8F_.D0.B8_.D0.BF.D1.80.D0.B8.D0.BC.D0.B5.D1.80.D1.8B_.D0.BF.D1.80.D0.B8.D0.BA.D0.BB.D0.B0.D0.B4.D0.BD.D1.8B.D1.85_.D0.B7.D0.B0.D0.B4.D0.B0.D1.87)."
   ]
  },
  {
   "cell_type": "markdown",
   "metadata": {},
   "source": [
    "## Содержание<a id=\"contents\"></a>\n",
    "\n",
    "* [Выборка](#samples)\n",
    "* [Метод ближайшего соседа](#knn)\n",
    "  * [Часть 1: \"Просто\" ближайший](#knn-1)\n",
    "  * [Часть 2: Три ближайших](#knn-2)\n",
    "* [\"Обучение\" параметров метода](#training)\n",
    "* [Метод ближайшего соседа (продолжение)](#knn-continue)\n",
    "  * [Часть 3: Обучаемый сосед](#knn-3)\n",
    "  * [Часть 4: Честный обучаемый сосед](#knn-4)\n",
    "  * [Часть 5: Честный обучаемый сосед без переобучения](#knn-5)\n",
    "  * [Часть 6: \"K\" ближайших соседей](#knn-6)\n",
    "* [Подбор гиперпараметров](#hyperparams)\n",
    "* [Валидация](#validation)\n",
    "  * [Часть 1: \"Валидация\" на train](#validation-1)\n",
    "  * [Часть 2: Валидация на val](#validation-2)\n",
    "  * [Часть 3: Валидация на разных val, или Кросс-валидация](#validation-3)"
   ]
  },
  {
   "cell_type": "code",
   "execution_count": 57,
   "metadata": {},
   "outputs": [],
   "source": [
    "from itertools import product\n",
    "\n",
    "import numpy as np\n",
    "import matplotlib.pyplot as plt\n",
    "\n",
    "\n",
    "SEED = 13112023"
   ]
  },
  {
   "cell_type": "markdown",
   "metadata": {},
   "source": [
    "## Выборка<a id=\"samples\"></a>\n",
    "\n",
    "Пусть объекты — числа на прямой."
   ]
  },
  {
   "cell_type": "code",
   "execution_count": 2,
   "metadata": {},
   "outputs": [],
   "source": [
    "# Все-все объекты (полная совокупность)\n",
    "X = np.arange(-3, 3.001, 0.01)"
   ]
  },
  {
   "cell_type": "code",
   "execution_count": 3,
   "metadata": {},
   "outputs": [],
   "source": [
    "# Зависимость, которую будем пытаться найти\n",
    "def a(x):\n",
    "    return np.sin(x)"
   ]
  },
  {
   "cell_type": "code",
   "execution_count": 4,
   "metadata": {},
   "outputs": [],
   "source": [
    "# Ответы для объектов\n",
    "y = a(X)"
   ]
  },
  {
   "cell_type": "code",
   "execution_count": 5,
   "metadata": {},
   "outputs": [
    {
     "data": {
      "image/png": "[encoded data removed]",
      "text/plain": [
       "<Figure size 432x288 with 1 Axes>"
      ]
     },
     "metadata": {
      "needs_background": "light"
     },
     "output_type": "display_data"
    }
   ],
   "source": [
    "plt.plot(X, y)\n",
    "\n",
    "plt.xlabel('x')\n",
    "plt.ylabel('y')\n",
    "plt.show()"
   ]
  },
  {
   "cell_type": "code",
   "execution_count": 6,
   "metadata": {},
   "outputs": [],
   "source": [
    "# Обучающая выборка (только для этих объектов будем знать ответы)\n",
    "X_train = np.arange(-3, 3.001, 0.5)"
   ]
  },
  {
   "cell_type": "code",
   "execution_count": 7,
   "metadata": {},
   "outputs": [],
   "source": [
    "np.random.seed(SEED)\n",
    "\n",
    "# Знаем ответы, но с \"шумом\" (\"как в реальной жизни\")\n",
    "noise = 0.2 * np.random.randn(len(X_train))\n",
    "y_train = a(X_train) + noise"
   ]
  },
  {
   "cell_type": "code",
   "execution_count": 8,
   "metadata": {},
   "outputs": [
    {
     "data": {
      "image/png": "[encoded data removed]",
      "text/plain": [
       "<Figure size 432x288 with 1 Axes>"
      ]
     },
     "metadata": {
      "needs_background": "light"
     },
     "output_type": "display_data"
    }
   ],
   "source": [
    "plt.plot(X, a(X))\n",
    "plt.scatter(X_train, y_train)\n",
    "\n",
    "plt.xlabel('x')\n",
    "plt.ylabel('y')\n",
    "plt.show()"
   ]
  },
  {
   "cell_type": "markdown",
   "metadata": {},
   "source": [
    "## Метод ближайшего соседа<a id=\"knn\"></a>\n",
    "\n",
    "[Ссылка на теорию](https://web.archive.org/web/20221002034553/http://machinelearning.ru/wiki/index.php?title=%D0%9C%D0%B0%D1%88%D0%B8%D0%BD%D0%BD%D0%BE%D0%B5_%D0%BE%D0%B1%D1%83%D1%87%D0%B5%D0%BD%D0%B8%D0%B5_(%D0%BA%D1%83%D1%80%D1%81_%D0%BB%D0%B5%D0%BA%D1%86%D0%B8%D0%B9%2C_%D0%9A.%D0%92.%D0%92%D0%BE%D1%80%D0%BE%D0%BD%D1%86%D0%BE%D0%B2)#.D0.9C.D0.B5.D1.82.D1.80.D0.B8.D1.87.D0.B5.D1.81.D0.BA.D0.B8.D0.B5_.D0.BC.D0.B5.D1.82.D0.BE.D0.B4.D1.8B_.D0.BA.D0.BB.D0.B0.D1.81.D1.81.D0.B8.D1.84.D0.B8.D0.BA.D0.B0.D1.86.D0.B8.D0.B8_.D0.B8_.D1.80.D0.B5.D0.B3.D1.80.D0.B5.D1.81.D1.81.D0.B8.D0.B8)."
   ]
  },
  {
   "cell_type": "markdown",
   "metadata": {},
   "source": [
    "### Часть 1: \"Просто\" ближайший<a id=\"knn-1\"></a>\n",
    "\n",
    "<div style=\"text-align: right\">Назад к <a href=#contents>содержанию</a></div>"
   ]
  },
  {
   "cell_type": "code",
   "execution_count": 9,
   "metadata": {},
   "outputs": [],
   "source": [
    "class NearestNeighbourModel:\n",
    "    \"\"\"\n",
    "    Ответ для объекта — такой же, как у ближайшего соседа\n",
    "    \"\"\"\n",
    "\n",
    "    def __init__(self, X: list, y: list):\n",
    "        self.X = X\n",
    "        self.y = y\n",
    "    \n",
    "    def predict(self, input: list) -> list:\n",
    "        predictions = list()\n",
    "        \n",
    "        for x in input:\n",
    "            distances = np.abs(self.X - x)\n",
    "            index_nearest = np.argmin(distances)\n",
    "            prediction = self.y[index_nearest]\n",
    "            predictions.append(prediction)\n",
    "        \n",
    "        return predictions"
   ]
  },
  {
   "cell_type": "code",
   "execution_count": 10,
   "metadata": {},
   "outputs": [],
   "source": [
    "model = NearestNeighbourModel(X_train, y_train)\n",
    "\n",
    "y_pred = model.predict(X)"
   ]
  },
  {
   "cell_type": "code",
   "execution_count": 11,
   "metadata": {},
   "outputs": [
    {
     "data": {
      "image/png": "[encoded data removed]",
      "text/plain": [
       "<Figure size 432x288 with 1 Axes>"
      ]
     },
     "metadata": {
      "needs_background": "light"
     },
     "output_type": "display_data"
    }
   ],
   "source": [
    "plt.plot(X, y, color='lightsteelblue')\n",
    "plt.scatter(X_train, y_train, color='royalblue')\n",
    "\n",
    "plt.plot(X, y_pred, color='crimson')\n",
    "\n",
    "plt.xlabel('x')\n",
    "plt.ylabel('y')\n",
    "plt.show()"
   ]
  },
  {
   "cell_type": "code",
   "execution_count": 12,
   "metadata": {},
   "outputs": [],
   "source": [
    "def plot_prediction(X_target, y_pred, X_train, y_train):\n",
    "    plt.plot(X, y, color='lightsteelblue')\n",
    "    plt.scatter(X_train, y_train, color='royalblue')\n",
    "\n",
    "    plt.plot(X_target, y_pred, color='crimson')\n",
    "\n",
    "    plt.xlabel('x')\n",
    "    plt.ylabel('y')\n",
    "    plt.show()"
   ]
  },
  {
   "cell_type": "markdown",
   "metadata": {},
   "source": [
    "### Часть 2: Три ближайших<a id=\"knn-2\"></a>\n",
    "\n",
    "<div style=\"text-align: right\">Назад к <a href=#contents>содержанию</a></div>"
   ]
  },
  {
   "cell_type": "code",
   "execution_count": 13,
   "metadata": {},
   "outputs": [],
   "source": [
    "class ThreeNearestNeighboursModel:\n",
    "    def __init__(self, X, y, weights):\n",
    "        self.X = X\n",
    "        self.y = y\n",
    "        \n",
    "        self.weights = weights\n",
    "    \n",
    "    def predict(self, input: list) -> list:\n",
    "        predictions = list()\n",
    "        \n",
    "        for x in input:\n",
    "            distances = np.abs(self.X - x)\n",
    "            indices_nearest = np.argsort(distances)\n",
    "            \n",
    "            prediction = (\n",
    "                self.weights[0] * self.y[indices_nearest[0]]\n",
    "                    + self.weights[1] * self.y[indices_nearest[1]]\n",
    "                    + self.weights[2] * self.y[indices_nearest[2]]\n",
    "            )\n",
    "\n",
    "            predictions.append(prediction)\n",
    "        \n",
    "        return predictions"
   ]
  },
  {
   "cell_type": "code",
   "execution_count": 14,
   "metadata": {},
   "outputs": [],
   "source": [
    "# Веса — \"важности\" соседей\n",
    "# Считаем, что чем ближе, тем важнее\n",
    "model = ThreeNearestNeighboursModel(\n",
    "    X_train, y_train, weights=[0.6, 0.3, 0.1]\n",
    ")\n",
    "\n",
    "y_pred = model.predict(X)"
   ]
  },
  {
   "cell_type": "code",
   "execution_count": 15,
   "metadata": {},
   "outputs": [
    {
     "data": {
      "image/png": "[encoded data removed]",
      "text/plain": [
       "<Figure size 432x288 with 1 Axes>"
      ]
     },
     "metadata": {
      "needs_background": "light"
     },
     "output_type": "display_data"
    }
   ],
   "source": [
    "plot_prediction(X, y_pred, X_train, y_train)"
   ]
  },
  {
   "cell_type": "markdown",
   "metadata": {},
   "source": [
    "Кажется, с тремя соседями стало получше...\n",
    "\n",
    "Но откуда брать веса?\n",
    "\"С потолка\"?.."
   ]
  },
  {
   "cell_type": "markdown",
   "metadata": {},
   "source": [
    "## \"Обучение\" параметров метода<a id=\"training\"></a>\n",
    "\n",
    "<div style=\"text-align: right\">Назад к <a href=#contents>содержанию</a></div>\n",
    "\n",
    "По сетке: переберём \"все\" варианты и выберем лучшие веса."
   ]
  },
  {
   "cell_type": "code",
   "execution_count": 16,
   "metadata": {},
   "outputs": [],
   "source": [
    "divergences = list()\n",
    "weight_grid = list()\n",
    "\n",
    "grid_step = 0.05\n",
    "\n",
    "for w1 in np.arange(0, 1.001, grid_step):\n",
    "    for w2 in np.arange(0, 1.001 - w1, grid_step):\n",
    "        w3 = 1 - (w1 + w2)  # пусть сумма весов равна единице\n",
    "                            # (ответ — \"усреднение\" по ответам соседей)\n",
    "        weights = (w1, w2, w3)\n",
    "\n",
    "        model = ThreeNearestNeighboursModel(\n",
    "            X_train, y_train, weights=weights\n",
    "        )\n",
    "        y_pred = model.predict(X)\n",
    "\n",
    "        diffs = abs(y - y_pred)\n",
    "        max_diff = max(diffs) \n",
    "\n",
    "        weight_grid.append(weights)\n",
    "        divergences.append(max_diff)"
   ]
  },
  {
   "cell_type": "code",
   "execution_count": 17,
   "metadata": {},
   "outputs": [
    {
     "data": {
      "image/png": "[encoded data removed]",
      "text/plain": [
       "<Figure size 432x288 with 1 Axes>"
      ]
     },
     "metadata": {
      "needs_background": "light"
     },
     "output_type": "display_data"
    }
   ],
   "source": [
    "# График \"плохости\" метода в зависимости от номера комбинации весов\n",
    "# (чем меньше, тем лучше)\n",
    "plt.plot(divergences)\n",
    "\n",
    "plt.xlabel('Weights combination number')\n",
    "plt.ylabel('Divergence')\n",
    "\n",
    "plt.show()"
   ]
  },
  {
   "cell_type": "markdown",
   "metadata": {},
   "source": [
    "(График приведён в основном просто ради интереса — сделать из него определённые выводы не особо получается.)"
   ]
  },
  {
   "cell_type": "code",
   "execution_count": 18,
   "metadata": {},
   "outputs": [
    {
     "name": "stdout",
     "output_type": "stream",
     "text": [
      "Best weights: (0.4, 0.4, 0.19999999999999996) (index = 148).\n"
     ]
    }
   ],
   "source": [
    "# Лучшие веса\n",
    "index_best = np.argmin(divergences)\n",
    "weights_best = weight_grid[index_best]\n",
    "\n",
    "print(f'Best weights: {weights_best} (index = {index_best}).')"
   ]
  },
  {
   "cell_type": "markdown",
   "metadata": {},
   "source": [
    "## Метод ближайшего соседа (продолжение)<a id=\"knn-continue\"></a>"
   ]
  },
  {
   "cell_type": "markdown",
   "metadata": {},
   "source": [
    "### Часть 3: Обучаемый сосед<a id=\"knn-3\"></a>\n",
    "\n",
    "<div style=\"text-align: right\">Назад к <a href=#contents>содержанию</a></div>"
   ]
  },
  {
   "cell_type": "code",
   "execution_count": 19,
   "metadata": {},
   "outputs": [],
   "source": [
    "class ThreeTrainableNearestNeighboursModel:\n",
    "    def __init__(self, X, y):\n",
    "        self.X = X\n",
    "        self.y = y\n",
    "        \n",
    "        self.k = 3\n",
    "        \n",
    "        # До обучения метод нельзя использовать\n",
    "        # (но можно бы было и как-то более-менее нормально задать)\n",
    "        self.weights = [None] * self.k\n",
    "    \n",
    "    def train(self):\n",
    "        \"\"\"\n",
    "        Обучает веса метода (поиск по сетке).\n",
    "        \"\"\"\n",
    "        divergences = list()\n",
    "        weight_grid = list()\n",
    "\n",
    "        grid_step = 0.05\n",
    "\n",
    "        for w1 in np.arange(0, 1.001, grid_step):\n",
    "            for w2 in np.arange(0, 1.001 - w1, grid_step):\n",
    "                w3 = 1 - (w1 + w2)\n",
    "                weights = (w1, w2, w3)\n",
    "\n",
    "                model = ThreeNearestNeighboursModel(\n",
    "                    self.X, self.y, weights=weights\n",
    "                )\n",
    "\n",
    "                y_pred = model.predict(X)\n",
    "                diffs = abs(y - y_pred)\n",
    "                max_diff = max(diffs) \n",
    "\n",
    "                weight_grid.append(weights)\n",
    "                divergences.append(max_diff)\n",
    "        \n",
    "        index_best = np.argmin(divergences)\n",
    "        weights_best = weight_grid[index_best]\n",
    "        \n",
    "        self.weights = weights_best\n",
    "    \n",
    "    def predict(self, input: list) -> list:\n",
    "        predictions = list()\n",
    "        \n",
    "        for x in input:\n",
    "            distances = np.abs(self.X - x)\n",
    "            indices_nearest = np.argsort(distances)\n",
    "            \n",
    "            prediction = (\n",
    "                self.weights[0] * self.y[indices_nearest[0]]\n",
    "                    + self.weights[1] * self.y[indices_nearest[1]]\n",
    "                    + self.weights[2] * self.y[indices_nearest[2]]\n",
    "            )\n",
    "\n",
    "            predictions.append(prediction)\n",
    "        \n",
    "        return predictions"
   ]
  },
  {
   "cell_type": "code",
   "execution_count": 20,
   "metadata": {},
   "outputs": [
    {
     "name": "stdout",
     "output_type": "stream",
     "text": [
      "Weights: (0.4, 0.4, 0.19999999999999996).\n"
     ]
    }
   ],
   "source": [
    "model = ThreeTrainableNearestNeighboursModel(\n",
    "    X_train, y_train\n",
    ")\n",
    "\n",
    "model.train()\n",
    "\n",
    "print(f'Weights: {model.weights}.')\n",
    "\n",
    "y_pred = model.predict(X)"
   ]
  },
  {
   "cell_type": "code",
   "execution_count": 21,
   "metadata": {},
   "outputs": [
    {
     "data": {
      "image/png": "[encoded data removed]",
      "text/plain": [
       "<Figure size 432x288 with 1 Axes>"
      ]
     },
     "metadata": {
      "needs_background": "light"
     },
     "output_type": "display_data"
    }
   ],
   "source": [
    "plot_prediction(X, y_pred, X_train, y_train)"
   ]
  },
  {
   "cell_type": "markdown",
   "metadata": {},
   "source": [
    "Но метод выбирал веса, глядя на предсказание для *всей совокупности* объектов, а это нечестно — обучаться надо только по о*бучающей выборке*."
   ]
  },
  {
   "cell_type": "markdown",
   "metadata": {},
   "source": [
    "### Часть 4: Честный обучаемый сосед<a id=\"knn-4\"></a>\n",
    "\n",
    "<div style=\"text-align: right\">Назад к <a href=#contents>содержанию</a></div>"
   ]
  },
  {
   "cell_type": "code",
   "execution_count": 22,
   "metadata": {},
   "outputs": [],
   "source": [
    "class FairThreeTrainableNearestNeighboursModel:\n",
    "    def __init__(self, X, y):\n",
    "        self.X = X\n",
    "        self.y = y\n",
    "        \n",
    "        self.k = 3\n",
    "        self.weights = [None] * self.k\n",
    "    \n",
    "    def train(self):\n",
    "        divergences = list()\n",
    "        weight_grid = list()\n",
    "\n",
    "        grid_step = 0.05\n",
    "\n",
    "        for w1 in np.arange(0, 1.001, grid_step):\n",
    "            for w2 in np.arange(0, 1.001 - w1, grid_step):\n",
    "                w3 = 1 - (w1 + w2)\n",
    "                weights = (w1, w2, w3)\n",
    "\n",
    "                model = ThreeNearestNeighboursModel(\n",
    "                    self.X, self.y, weights=weights\n",
    "                )\n",
    "\n",
    "                y_pred = model.predict(self.X)  # Теперь тут честно\n",
    "                diffs = abs(self.y - y_pred)    # и тут тоже\n",
    "                max_diff = max(diffs) \n",
    "\n",
    "                weight_grid.append(weights)\n",
    "                divergences.append(max_diff)\n",
    "        \n",
    "        index_best = np.argmin(divergences)\n",
    "        weights_best = weight_grid[index_best]\n",
    "        \n",
    "        self.weights = weights_best\n",
    "    \n",
    "    def predict(self, input: list) -> list:\n",
    "        predictions = list()\n",
    "        \n",
    "        for x in input:\n",
    "            distances = np.abs(self.X - x)\n",
    "            indices_nearest = np.argsort(distances)\n",
    "            \n",
    "            prediction = (\n",
    "                self.weights[0] * self.y[indices_nearest[0]]\n",
    "                    + self.weights[1] * self.y[indices_nearest[1]]\n",
    "                    + self.weights[2] * self.y[indices_nearest[2]]\n",
    "            )\n",
    "\n",
    "            predictions.append(prediction)\n",
    "        \n",
    "        return predictions"
   ]
  },
  {
   "cell_type": "code",
   "execution_count": 23,
   "metadata": {},
   "outputs": [
    {
     "name": "stdout",
     "output_type": "stream",
     "text": [
      "Weights: (1.0, 0.0, 0.0).\n"
     ]
    }
   ],
   "source": [
    "model = FairThreeTrainableNearestNeighboursModel(\n",
    "    X_train, y_train\n",
    ")\n",
    "\n",
    "model.train()\n",
    "\n",
    "print(f'Weights: {model.weights}.')\n",
    "\n",
    "y_pred = model.predict(X)"
   ]
  },
  {
   "cell_type": "markdown",
   "metadata": {},
   "source": [
    "Единичка, а остальные — нули?.."
   ]
  },
  {
   "cell_type": "code",
   "execution_count": 24,
   "metadata": {},
   "outputs": [
    {
     "data": {
      "image/png": "[encoded data removed]",
      "text/plain": [
       "<Figure size 432x288 with 1 Axes>"
      ]
     },
     "metadata": {
      "needs_background": "light"
     },
     "output_type": "display_data"
    }
   ],
   "source": [
    "plot_prediction(X, y_pred, X_train, y_train)"
   ]
  },
  {
   "cell_type": "markdown",
   "metadata": {},
   "source": [
    "\"Угловато\" — это явно не лучшее решение.\n",
    "Но почему тогда обучились именно такие веса?.."
   ]
  },
  {
   "cell_type": "markdown",
   "metadata": {},
   "source": [
    "### Часть 5: Честный обучаемый сосед без переобучения<a id=\"knn-5\"></a>\n",
    "\n",
    "<div style=\"text-align: right\">Назад к <a href=#contents>содержанию</a></div>\n",
    "\n",
    "Как и при изучении китайского так и тянет смотреть на пхиньинь вместо иероглифов, так и модели проще смотреть только на ближайшего соседа, ведь для объектов из обучающей выборки уже известны ответы (объект сам для себя и есть ближайший).\n",
    "\n",
    "---\n",
    "\n",
    "Переобучение — хорошее (очень хорошее) качество на обучающей выборке, но плохое — для остальных объектов."
   ]
  },
  {
   "cell_type": "code",
   "execution_count": 25,
   "metadata": {},
   "outputs": [],
   "source": [
    "class FairThreeTrainableNearestNeighboursNoOverfitModel:\n",
    "    def __init__(self, X, y, weights=None):\n",
    "        self.X = X\n",
    "        self.y = y\n",
    "        \n",
    "        self.k = 3\n",
    "        \n",
    "        if weights is not None:\n",
    "            self.weights = weights\n",
    "        else:\n",
    "            self.weights = [None] * self.k\n",
    "    \n",
    "    def train(self):\n",
    "        divergences = list()\n",
    "        weight_grid = list()\n",
    "\n",
    "        grid_step = 0.05\n",
    "\n",
    "        for w1 in np.arange(0, 1.001, grid_step):\n",
    "            for w2 in np.arange(0, 1.001 - w1, grid_step):\n",
    "                w3 = 1 - (w1 + w2)\n",
    "                weights = (w1, w2, w3)\n",
    "\n",
    "                model = FairThreeTrainableNearestNeighboursNoOverfitModel(\n",
    "                    self.X, self.y, weights=weights\n",
    "                )\n",
    "\n",
    "                y_pred = model.predict(self.X, train=True)  # Отличие тут\n",
    "                diffs = abs(self.y - y_pred)\n",
    "                max_diff = max(diffs) \n",
    "\n",
    "                weight_grid.append(weights)\n",
    "                divergences.append(max_diff)\n",
    "        \n",
    "        index_best = np.argmin(divergences)\n",
    "        weights_best = weight_grid[index_best]\n",
    "        \n",
    "        self.weights = weights_best\n",
    "    \n",
    "    def predict(self, input: list, train=False) -> list:\n",
    "        predictions = list()\n",
    "        \n",
    "        for x in input:\n",
    "            distances = np.abs(self.X - x)\n",
    "            indices_nearest = np.argsort(distances)\n",
    "            \n",
    "            if train:  # и тут\n",
    "                indices_nearest = indices_nearest[1:]  # Замазываем пхиньинь\n",
    "\n",
    "            prediction = (\n",
    "                self.weights[0] * self.y[indices_nearest[0]]\n",
    "                    + self.weights[1] * self.y[indices_nearest[1]]\n",
    "                    + self.weights[2] * self.y[indices_nearest[2]]\n",
    "            )\n",
    "\n",
    "            predictions.append(prediction)\n",
    "        \n",
    "        return predictions"
   ]
  },
  {
   "cell_type": "code",
   "execution_count": 26,
   "metadata": {},
   "outputs": [
    {
     "name": "stdout",
     "output_type": "stream",
     "text": [
      "Weights: (0.65, 0.35000000000000003, 0.0).\n"
     ]
    }
   ],
   "source": [
    "model = FairThreeTrainableNearestNeighboursNoOverfitModel(\n",
    "    X_train, y_train\n",
    ")\n",
    "\n",
    "model.train()\n",
    "\n",
    "print(f'Weights: {model.weights}.')\n",
    "\n",
    "y_pred = model.predict(X)"
   ]
  },
  {
   "cell_type": "code",
   "execution_count": 27,
   "metadata": {},
   "outputs": [
    {
     "data": {
      "image/png": "[encoded data removed]",
      "text/plain": [
       "<Figure size 432x288 with 1 Axes>"
      ]
     },
     "metadata": {
      "needs_background": "light"
     },
     "output_type": "display_data"
    }
   ],
   "source": [
    "plot_prediction(X, y_pred, X_train, y_train)"
   ]
  },
  {
   "cell_type": "markdown",
   "metadata": {},
   "source": [
    "### Часть 6: \"K\" ближайших соседей<a id=\"knn-6\"></a>\n",
    "\n",
    "<div style=\"text-align: right\">Назад к <a href=#contents>содержанию</a></div>"
   ]
  },
  {
   "cell_type": "code",
   "execution_count": 28,
   "metadata": {},
   "outputs": [],
   "source": [
    "class FairKTrainableNearestNeighboursNoOverfitModel:\n",
    "    def __init__(self, X, y, k=None, weights=None):\n",
    "        self.X = X\n",
    "        self.y = y\n",
    "        \n",
    "        if k is None and weights is None:\n",
    "            raise ValueError()\n",
    "\n",
    "        if weights is not None:\n",
    "            self.weights = weights\n",
    "            self.k = len(self.weights)\n",
    "        else:\n",
    "            self.k = k\n",
    "            self.weights = [None] * self.k\n",
    "    \n",
    "    def train(self):\n",
    "        divergences = list()\n",
    "        weight_grid = list()\n",
    "\n",
    "        grid_step = 0.05\n",
    "        eps = 1e-5\n",
    "        grid = np.arange(0, 1.001, grid_step)\n",
    "\n",
    "        # TODO: may take too much time\n",
    "        for weights in product(grid, repeat=self.k):  # Отличие тут\n",
    "            # Уберём ограничение на единичную сумму весов\n",
    "            # Теперь это уже не усреднение\n",
    "            # Будет дольше, но даём больше возможностей модели\n",
    "            # (Проверено: без ограничения результат выходит получше)\n",
    "\n",
    "            # if abs(1 - sum(weights)) > eps:\n",
    "            #     continue\n",
    "\n",
    "            model = FairKTrainableNearestNeighboursNoOverfitModel(\n",
    "                self.X, self.y, weights=weights\n",
    "            )\n",
    "\n",
    "            y_pred = model.predict(self.X, train=True)\n",
    "            diffs = abs(self.y - y_pred)\n",
    "            max_diff = max(diffs) \n",
    "\n",
    "            weight_grid.append(weights)\n",
    "            divergences.append(max_diff)\n",
    "        \n",
    "        index_best = np.argmin(divergences)\n",
    "        weights_best = weight_grid[index_best]\n",
    "        \n",
    "        self.weights = weights_best\n",
    "    \n",
    "    def predict(self, input: list, train=False) -> list:\n",
    "        predictions = list()\n",
    "        \n",
    "        for x in input:\n",
    "            distances = np.abs(self.X - x)\n",
    "            indices_nearest = np.argsort(distances)\n",
    "            \n",
    "            if train:\n",
    "                indices_nearest = indices_nearest[1:]\n",
    "\n",
    "            prediction = 0.0\n",
    "            \n",
    "            for i in range(self.k):  # и тут — теперь цикл работает для любого числа соседей\n",
    "                prediction += (\n",
    "                    self.weights[i] * self.y[indices_nearest[i]]\n",
    "                )\n",
    "\n",
    "            predictions.append(prediction)\n",
    "        \n",
    "        return predictions"
   ]
  },
  {
   "cell_type": "code",
   "execution_count": 29,
   "metadata": {},
   "outputs": [
    {
     "name": "stdout",
     "output_type": "stream",
     "text": [
      "Weights: (1.0,).\n"
     ]
    }
   ],
   "source": [
    "model = FairKTrainableNearestNeighboursNoOverfitModel(\n",
    "    X_train, y_train, k=1\n",
    ")\n",
    "\n",
    "model.train()\n",
    "\n",
    "print(f'Weights: {model.weights}.')\n",
    "\n",
    "y_pred = model.predict(X)"
   ]
  },
  {
   "cell_type": "code",
   "execution_count": 30,
   "metadata": {},
   "outputs": [
    {
     "data": {
      "image/png": "[encoded data removed]",
      "text/plain": [
       "<Figure size 432x288 with 1 Axes>"
      ]
     },
     "metadata": {
      "needs_background": "light"
     },
     "output_type": "display_data"
    }
   ],
   "source": [
    "plot_prediction(X, y_pred, X_train, y_train)"
   ]
  },
  {
   "cell_type": "code",
   "execution_count": 31,
   "metadata": {},
   "outputs": [
    {
     "name": "stdout",
     "output_type": "stream",
     "text": [
      "Weights: (0.55, 0.35000000000000003, 0.0).\n"
     ]
    }
   ],
   "source": [
    "model = FairKTrainableNearestNeighboursNoOverfitModel(\n",
    "    X_train, y_train, k=3\n",
    ")\n",
    "\n",
    "model.train()\n",
    "\n",
    "print(f'Weights: {model.weights}.')\n",
    "\n",
    "y_pred = model.predict(X)"
   ]
  },
  {
   "cell_type": "code",
   "execution_count": 32,
   "metadata": {},
   "outputs": [
    {
     "data": {
      "image/png": "[encoded data removed]",
      "text/plain": [
       "<Figure size 432x288 with 1 Axes>"
      ]
     },
     "metadata": {
      "needs_background": "light"
     },
     "output_type": "display_data"
    }
   ],
   "source": [
    "plot_prediction(X, y_pred, X_train, y_train)"
   ]
  },
  {
   "cell_type": "markdown",
   "metadata": {},
   "source": [
    "## Подбор гиперпараметров<a id=\"hyperparams\"></a>\n",
    "\n",
    "<div style=\"text-align: right\">Назад к <a href=#contents>содержанию</a></div>\n",
    "\n",
    "Число соседей — определяет веса.\n",
    "Веса сделали обучаемыми.\n",
    "Но откуда брать само число соседей?..\n",
    "\n",
    "---\n",
    "\n",
    "Гиперпараметры — параметры, задающие параметры."
   ]
  },
  {
   "cell_type": "code",
   "execution_count": 33,
   "metadata": {},
   "outputs": [],
   "source": [
    "# Перепишем класс, добавив ещё один параметр — шаг сетки.\n",
    "# Ведь при большом числе соседей искать веса на малой сетке\n",
    "# может оказаться очень долго...\n",
    "# (и надо, чтоб была возможность немного \"схалтурить\")\n",
    "#\n",
    "# P.S.\n",
    "# В целях более понятного \"потока\" изложения\n",
    "# решено было пожертвовать некоторыми \"правилами\" написания кода,\n",
    "# в частности \"правилом DRY\", ведь код далее —\n",
    "# это явный почти копипаст класса выше.\n",
    "# Вообще же так копировать не очень хорошо!\n",
    "\n",
    "class FairKTrainableNearestNeighboursNoOverfitModel:\n",
    "    def __init__(self, X, y, k=None, weights=None, grid_step=0.05):\n",
    "        self.X = X\n",
    "        self.y = y\n",
    "        \n",
    "        if k is None and weights is None:\n",
    "            raise ValueError()\n",
    "\n",
    "        if weights is not None:\n",
    "            self.weights = weights\n",
    "            self.k = len(self.weights)\n",
    "        else:\n",
    "            self.k = k\n",
    "            self.weights = [None] * self.k\n",
    "        \n",
    "        self.grid_step = grid_step\n",
    "        self.eps = 1e-5\n",
    "    \n",
    "    def train(self):\n",
    "        divergences = list()\n",
    "        weight_grid = list()\n",
    "\n",
    "        grid = np.arange(0, 1.001, self.grid_step)\n",
    "\n",
    "        # TODO: for big k, may be too long\n",
    "        for weights in product(grid, repeat=self.k):\n",
    "            # if abs(1 - sum(weights)) > self.eps:\n",
    "            #     continue\n",
    "\n",
    "            model = FairKTrainableNearestNeighboursNoOverfitModel(\n",
    "                self.X, self.y, weights=weights\n",
    "            )\n",
    "\n",
    "            y_pred = model.predict(self.X, train=True)\n",
    "            diffs = abs(self.y - y_pred)\n",
    "            max_diff = max(diffs) \n",
    "\n",
    "            weight_grid.append(weights)\n",
    "            divergences.append(max_diff)\n",
    "        \n",
    "        index_best = np.argmin(divergences)\n",
    "        weights_best = weight_grid[index_best]\n",
    "        \n",
    "        self.weights = weights_best\n",
    "    \n",
    "    def predict(self, input: list, train=False) -> list:\n",
    "        predictions = list()\n",
    "        \n",
    "        for x in input:\n",
    "            distances = np.abs(self.X - x)\n",
    "            indices_nearest = np.argsort(distances)\n",
    "            \n",
    "            if train:\n",
    "                indices_nearest = indices_nearest[1:]\n",
    "\n",
    "            prediction = 0.0\n",
    "            \n",
    "            for i in range(self.k):\n",
    "                prediction += (\n",
    "                    self.weights[i] * self.y[indices_nearest[i]]\n",
    "                )\n",
    "\n",
    "            predictions.append(prediction)\n",
    "        \n",
    "        return predictions"
   ]
  },
  {
   "cell_type": "code",
   "execution_count": 34,
   "metadata": {},
   "outputs": [
    {
     "name": "stdout",
     "output_type": "stream",
     "text": [
      "K = 1.\n",
      "K = 2.\n",
      "K = 3.\n",
      "K = 4.\n",
      "K = 5.\n",
      "K = 6.\n",
      "K = 7.\n",
      "K = 8.\n",
      "K = 9.\n"
     ]
    }
   ],
   "source": [
    "grid_step = 0.05\n",
    "divergences = dict()\n",
    "\n",
    "for k in range(1, 10):\n",
    "    print(f'K = {k}.')\n",
    "    \n",
    "    # Меняем сетку в зависимости от числа соседей k.\n",
    "    # Это не очень честно, но лучше так,\n",
    "    # чем вообще никогда не дождаться результата :)\n",
    "\n",
    "    if k == 5:\n",
    "        grid_step = 0.1\n",
    "    elif k == 6 or k == 7:\n",
    "        grid_step = 0.2\n",
    "    elif k >= 8:\n",
    "        grid_step = 0.5\n",
    "    \n",
    "    model = FairKTrainableNearestNeighboursNoOverfitModel(\n",
    "        X_train, y_train, k=k, grid_step=grid_step\n",
    "    )\n",
    "    \n",
    "    model.train()\n",
    "\n",
    "    y_pred = model.predict(X)\n",
    "    diffs = abs(y - y_pred)\n",
    "    max_diff = max(diffs)\n",
    "    \n",
    "    divergences[k] = max_diff"
   ]
  },
  {
   "cell_type": "code",
   "execution_count": 35,
   "metadata": {},
   "outputs": [
    {
     "data": {
      "image/png": "[encoded data removed]",
      "text/plain": [
       "<Figure size 432x288 with 1 Axes>"
      ]
     },
     "metadata": {
      "needs_background": "light"
     },
     "output_type": "display_data"
    }
   ],
   "source": [
    "# \"Плохость\" в зависимости от k\n",
    "plt.plot(\n",
    "    divergences.keys(), divergences.values(),\n",
    "    marker='.', markersize=10\n",
    ")\n",
    "\n",
    "plt.xlabel('k')\n",
    "plt.ylabel('Divergence')\n",
    "plt.show()"
   ]
  },
  {
   "cell_type": "code",
   "execution_count": 36,
   "metadata": {},
   "outputs": [
    {
     "name": "stdout",
     "output_type": "stream",
     "text": [
      "Best k = 4.\n",
      "Weights: (0.55, 0.35000000000000003, 0.0).\n"
     ]
    }
   ],
   "source": [
    "best_k_index = np.argmin(list(divergences.values()))\n",
    "best_k = list(divergences.keys())[best_k_index]\n",
    "\n",
    "print(f'Best k = {best_k}.')\n",
    "\n",
    "model = FairKTrainableNearestNeighboursNoOverfitModel(\n",
    "    X_train, y_train, k=best_k_index  # TODO: тут опечатка, но лень перезапускать :)\n",
    ")\n",
    "\n",
    "model.train()\n",
    "\n",
    "print(f'Weights: {model.weights}.')\n",
    "\n",
    "y_pred = model.predict(X)"
   ]
  },
  {
   "cell_type": "code",
   "execution_count": 37,
   "metadata": {},
   "outputs": [
    {
     "data": {
      "image/png": "[encoded data removed]",
      "text/plain": [
       "<Figure size 432x288 with 1 Axes>"
      ]
     },
     "metadata": {
      "needs_background": "light"
     },
     "output_type": "display_data"
    }
   ],
   "source": [
    "plot_prediction(X, y_pred, X_train, y_train)"
   ]
  },
  {
   "cell_type": "markdown",
   "metadata": {},
   "source": [
    "Таким образом, подбор гиперпараметра `k` сейчас завязан на то, какой хорошей получится модель при данном `k`.\n",
    "При это качество оценивается на всей совокупности объектов...\n",
    "Но ведь это не честно — потому что считаем, что в распоряжении есть только обучающая выборка!"
   ]
  },
  {
   "cell_type": "markdown",
   "metadata": {},
   "source": [
    "## Валидация<a id=\"validation\"></a>"
   ]
  },
  {
   "cell_type": "markdown",
   "metadata": {},
   "source": [
    "### Часть 1: \"Валидация\" на train<a id=\"validation-1\"></a>\n",
    "\n",
    "<div style=\"text-align: right\">Назад к <a href=#contents>содержанию</a></div>\n",
    "\n",
    "Качество обученной модели будем смотреть на \"имеющейся в распоряжении\" обучающей выборке."
   ]
  },
  {
   "cell_type": "code",
   "execution_count": 38,
   "metadata": {},
   "outputs": [
    {
     "name": "stdout",
     "output_type": "stream",
     "text": [
      "K = 1.\n",
      "K = 2.\n",
      "K = 3.\n",
      "K = 4.\n",
      "K = 5.\n",
      "K = 6.\n",
      "K = 7.\n",
      "K = 8.\n",
      "K = 9.\n"
     ]
    }
   ],
   "source": [
    "grid_step = 0.05\n",
    "divergences = dict()\n",
    "\n",
    "for k in range(1, 10):\n",
    "    print(f'K = {k}.')\n",
    "    \n",
    "    if k == 5:\n",
    "        grid_step = 0.1\n",
    "    elif k == 6 or k == 7:\n",
    "        grid_step = 0.2\n",
    "    elif k >= 8:\n",
    "        grid_step = 0.5\n",
    "    \n",
    "    model = FairKTrainableNearestNeighboursNoOverfitModel(\n",
    "        X_train, y_train, k=k, grid_step=grid_step\n",
    "    )\n",
    "    \n",
    "    model.train()\n",
    "\n",
    "    y_pred = model.predict(X_train)  # Отличие тут\n",
    "    diffs = abs(y_train - y_pred)    # и тут\n",
    "    max_diff = max(diffs)\n",
    "    \n",
    "    divergences[k] = max_diff"
   ]
  },
  {
   "cell_type": "code",
   "execution_count": 39,
   "metadata": {},
   "outputs": [
    {
     "data": {
      "image/png": "[encoded data removed]",
      "text/plain": [
       "<Figure size 432x288 with 1 Axes>"
      ]
     },
     "metadata": {
      "needs_background": "light"
     },
     "output_type": "display_data"
    }
   ],
   "source": [
    "# \"Плохость\" в зависимости от k\n",
    "plt.plot(\n",
    "    divergences.keys(), divergences.values(),\n",
    "    marker='.', markersize=10\n",
    ")\n",
    "\n",
    "plt.xlabel('k')\n",
    "plt.ylabel('Divergence')\n",
    "plt.show()"
   ]
  },
  {
   "cell_type": "markdown",
   "metadata": {},
   "source": [
    "Лучший `k` — это один сосед?..\n",
    "\n",
    "Подбор гиперпараметра `k` завязан на то, какой хорошей получится модель при данном `k`.\n",
    "При это качество оценивается на обучающей выборке.\n",
    "Это честно, но, выходит, лучший `k` — это такой, при котором модель лучше всего обучилась... или переобучилась?..\n",
    "Хороший ли это тогда это поиск `k`?"
   ]
  },
  {
   "cell_type": "markdown",
   "metadata": {},
   "source": [
    "### Часть 2: Валидация на val<a id=\"validation-2\"></a>\n",
    "\n",
    "<div style=\"text-align: right\">Назад к <a href=#contents>содержанию</a></div>\n",
    "\n",
    "Или \"Валидация без переобучения под train\".\n",
    "\n",
    "Качество обученной модели лучше смотреть на *отложенной выборке*, которая не использовалась для обучения.\n",
    "Таким образом, будем смотреть именно на качество, а не на \"уровень переобученности\"."
   ]
  },
  {
   "cell_type": "code",
   "execution_count": 40,
   "metadata": {},
   "outputs": [
    {
     "data": {
      "image/png": "[encoded data removed]",
      "text/plain": [
       "<Figure size 432x288 with 1 Axes>"
      ]
     },
     "metadata": {
      "needs_background": "light"
     },
     "output_type": "display_data"
    }
   ],
   "source": [
    "# Вспомним, как выглядит обучающая выборка\n",
    "plt.plot(X, y, color='lightsteelblue')\n",
    "plt.scatter(X_train, y_train, color='royalblue')\n",
    "\n",
    "plt.xlabel('x')\n",
    "plt.ylabel('y')\n",
    "plt.show()"
   ]
  },
  {
   "cell_type": "code",
   "execution_count": 41,
   "metadata": {},
   "outputs": [
    {
     "name": "stdout",
     "output_type": "stream",
     "text": [
      "Всего объектов в X_train: 13.\n"
     ]
    }
   ],
   "source": [
    "print(f'Всего объектов в X_train: {len(X_train)}.')"
   ]
  },
  {
   "cell_type": "markdown",
   "metadata": {},
   "source": [
    "Отложим 3 объекта для валидации (возьмём из начала, из конца, и из середины)."
   ]
  },
  {
   "cell_type": "code",
   "execution_count": 42,
   "metadata": {},
   "outputs": [],
   "source": [
    "X_val = np.array(\n",
    "    [X_train[0], X_train[7], X_train[-1]]\n",
    ")\n",
    "y_val = np.array(\n",
    "    [y_train[0], y_train[7], y_train[-1]]\n",
    ")\n",
    "\n",
    "X_train = np.array(\n",
    "    list(X_train[1:7]) + list(X_train[8:-1])\n",
    ")\n",
    "y_train = np.array(\n",
    "    list(y_train[1:7]) + list(y_train[8:-1])\n",
    ")"
   ]
  },
  {
   "cell_type": "code",
   "execution_count": 43,
   "metadata": {},
   "outputs": [
    {
     "data": {
      "image/png": "[encoded data removed]",
      "text/plain": [
       "<Figure size 432x288 with 1 Axes>"
      ]
     },
     "metadata": {
      "needs_background": "light"
     },
     "output_type": "display_data"
    }
   ],
   "source": [
    "# X_train и X_val\n",
    "plt.plot(X, y, color='lightsteelblue')\n",
    "plt.scatter(X_train, y_train, color='royalblue')\n",
    "plt.scatter(X_val, y_val, color='crimson')\n",
    "\n",
    "plt.xlabel('x')\n",
    "plt.ylabel('y')\n",
    "plt.show()"
   ]
  },
  {
   "cell_type": "code",
   "execution_count": 44,
   "metadata": {},
   "outputs": [
    {
     "name": "stdout",
     "output_type": "stream",
     "text": [
      "K = 1.\n",
      "K = 2.\n",
      "K = 3.\n",
      "K = 4.\n",
      "K = 5.\n",
      "K = 6.\n",
      "K = 7.\n",
      "K = 8.\n",
      "K = 9.\n"
     ]
    }
   ],
   "source": [
    "grid_step = 0.05\n",
    "divergences = dict()\n",
    "\n",
    "for k in range(1, 10):\n",
    "    print(f'K = {k}.')\n",
    "    \n",
    "    if k == 5:\n",
    "        grid_step = 0.1\n",
    "    elif k == 6 or k == 7:\n",
    "        grid_step = 0.2\n",
    "    elif k >= 8:\n",
    "        grid_step = 0.5\n",
    "    \n",
    "    model = FairKTrainableNearestNeighboursNoOverfitModel(\n",
    "        X_train, y_train, k=k, grid_step=grid_step\n",
    "    )\n",
    "    \n",
    "    model.train()\n",
    "\n",
    "    y_pred = model.predict(X_val)  # Отличие тут\n",
    "    diffs = abs(y_val - y_pred)    # и тут\n",
    "    max_diff = max(diffs)\n",
    "    \n",
    "    divergences[k] = max_diff"
   ]
  },
  {
   "cell_type": "code",
   "execution_count": 45,
   "metadata": {},
   "outputs": [
    {
     "data": {
      "image/png": "[encoded data removed]",
      "text/plain": [
       "<Figure size 432x288 with 1 Axes>"
      ]
     },
     "metadata": {
      "needs_background": "light"
     },
     "output_type": "display_data"
    }
   ],
   "source": [
    "# \"Плохость\" в зависимости от k\n",
    "plt.plot(\n",
    "    divergences.keys(), divergences.values(),\n",
    "    marker='.', markersize=10\n",
    ")\n",
    "\n",
    "plt.xlabel('k')\n",
    "plt.ylabel('Divergence')\n",
    "plt.show()"
   ]
  },
  {
   "cell_type": "markdown",
   "metadata": {},
   "source": [
    "Теперь `k`, равный одному соседу, не является лучшим!\n",
    "\n",
    "Кажется, что всё и честно, и работает.\n",
    "Лучший `k` — такой, при котором модель показывает лучшее качество на отложенной выборке.\n",
    "То есть модель в самом деле хорошая, или... просто лучше всего смогла \"подстроиться\" под отложенную выборку?.."
   ]
  },
  {
   "cell_type": "markdown",
   "metadata": {},
   "source": [
    "### Часть 3: Валидация на разных val, или Кросс-валидация<a id=\"validation-3\"></a>\n",
    "\n",
    "<div style=\"text-align: right\">Назад к <a href=#contents>содержанию</a></div>\n",
    "\n",
    "Или \"Валидация без переобучения под val\".\n",
    "\n",
    "Качество обученной модели снова будем смотреть на *отложенной выборке*, но эту отложенную будем выбирать несколько раз: и чтобы избежать эффектов, вызванных случайностью выбора отложенной выборки (вдруг модель плохая, просто на данном X_val смогла почему-то хорошо себя показать), и чтобы избежать \"подстройки\" под X_val (хотим лучшую модель вообще, а не только на данном X_val)."
   ]
  },
  {
   "cell_type": "code",
   "execution_count": 46,
   "metadata": {},
   "outputs": [],
   "source": [
    "# Восстановим обучающую выборку\n",
    "X_train = np.arange(-3, 3.001, 0.5)"
   ]
  },
  {
   "cell_type": "code",
   "execution_count": 47,
   "metadata": {},
   "outputs": [],
   "source": [
    "np.random.seed(SEED)\n",
    "\n",
    "noise = 0.2 * np.random.randn(len(X_train))\n",
    "y_train = a(X_train) + noise"
   ]
  },
  {
   "cell_type": "code",
   "execution_count": 48,
   "metadata": {},
   "outputs": [
    {
     "data": {
      "image/png": "[encoded data removed]",
      "text/plain": [
       "<Figure size 432x288 with 1 Axes>"
      ]
     },
     "metadata": {
      "needs_background": "light"
     },
     "output_type": "display_data"
    }
   ],
   "source": [
    "plt.plot(X, y, color='lightsteelblue')\n",
    "plt.scatter(X_train, y_train, color='royalblue')\n",
    "\n",
    "plt.xlabel('x')\n",
    "plt.ylabel('y')\n",
    "plt.show()"
   ]
  },
  {
   "cell_type": "code",
   "execution_count": 58,
   "metadata": {},
   "outputs": [
    {
     "name": "stdout",
     "output_type": "stream",
     "text": [
      "Iteration: 0.\n",
      "    K = 1.\n",
      "    K = 2.\n",
      "    K = 3.\n",
      "    K = 4.\n",
      "    K = 5.\n",
      "    K = 6.\n",
      "    K = 7.\n",
      "    K = 8.\n",
      "    K = 9.\n",
      "Iteration: 1.\n",
      "    K = 1.\n",
      "    K = 2.\n",
      "    K = 3.\n",
      "    K = 4.\n",
      "    K = 5.\n",
      "    K = 6.\n",
      "    K = 7.\n",
      "    K = 8.\n",
      "    K = 9.\n",
      "Iteration: 2.\n",
      "    K = 1.\n",
      "    K = 2.\n",
      "    K = 3.\n",
      "    K = 4.\n",
      "    K = 5.\n",
      "    K = 6.\n",
      "    K = 7.\n",
      "    K = 8.\n",
      "    K = 9.\n",
      "Iteration: 3.\n",
      "    K = 1.\n",
      "    K = 2.\n",
      "    K = 3.\n",
      "    K = 4.\n",
      "    K = 5.\n",
      "    K = 6.\n",
      "    K = 7.\n",
      "    K = 8.\n",
      "    K = 9.\n",
      "Iteration: 4.\n",
      "    K = 1.\n",
      "    K = 2.\n",
      "    K = 3.\n",
      "    K = 4.\n",
      "    K = 5.\n",
      "    K = 6.\n",
      "    K = 7.\n",
      "    K = 8.\n",
      "    K = 9.\n",
      "Iteration: 5.\n",
      "    K = 1.\n",
      "    K = 2.\n",
      "    K = 3.\n",
      "    K = 4.\n",
      "    K = 5.\n",
      "    K = 6.\n",
      "    K = 7.\n",
      "    K = 8.\n",
      "    K = 9.\n",
      "Iteration: 6.\n",
      "    K = 1.\n",
      "    K = 2.\n",
      "    K = 3.\n",
      "    K = 4.\n",
      "    K = 5.\n",
      "    K = 6.\n",
      "    K = 7.\n",
      "    K = 8.\n",
      "    K = 9.\n",
      "Iteration: 7.\n",
      "    K = 1.\n",
      "    K = 2.\n",
      "    K = 3.\n",
      "    K = 4.\n",
      "    K = 5.\n",
      "    K = 6.\n",
      "    K = 7.\n",
      "    K = 8.\n",
      "    K = 9.\n",
      "Iteration: 8.\n",
      "    K = 1.\n",
      "    K = 2.\n",
      "    K = 3.\n",
      "    K = 4.\n",
      "    K = 5.\n",
      "    K = 6.\n",
      "    K = 7.\n",
      "    K = 8.\n",
      "    K = 9.\n",
      "Iteration: 9.\n",
      "    K = 1.\n",
      "    K = 2.\n",
      "    K = 3.\n",
      "    K = 4.\n",
      "    K = 5.\n",
      "    K = 6.\n",
      "    K = 7.\n",
      "    K = 8.\n",
      "    K = 9.\n"
     ]
    }
   ],
   "source": [
    "np.random.seed(SEED)\n",
    "\n",
    "num_val_samples = 3\n",
    "results = list()\n",
    "\n",
    "for i in range(10):\n",
    "    print(f'Iteration: {i}.')\n",
    "    \n",
    "    val_indices = np.random.choice(\n",
    "        range(len(X_train)), num_val_samples, replace=False\n",
    "    )\n",
    "    \n",
    "    X_val_i = np.array(\n",
    "        [X_train[j] for j in val_indices]\n",
    "    )\n",
    "    y_val_i = np.array(\n",
    "        [y_train[j] for j in val_indices]\n",
    "    )\n",
    "\n",
    "    X_train_i = np.array(\n",
    "        [X_train[j] for j in range(len(X_train))\n",
    "                    if j not in val_indices]\n",
    "    )\n",
    "    y_train_i = np.array(\n",
    "        [y_train[j] for j in range(len(X_train))\n",
    "                    if j not in val_indices]\n",
    "    )\n",
    "    \n",
    "    grid_step = 0.05\n",
    "    divergences = dict()\n",
    "\n",
    "    for k in range(1, 10):\n",
    "        print(f'    K = {k}.')\n",
    "\n",
    "        if k == 5:\n",
    "            grid_step = 0.1\n",
    "        elif k == 6 or k == 7:\n",
    "            grid_step = 0.2\n",
    "        elif k >= 8:\n",
    "            grid_step = 0.5\n",
    "\n",
    "        model = FairKTrainableNearestNeighboursNoOverfitModel(\n",
    "            X_train_i, y_train_i,          # Отличие тут\n",
    "            k=k, grid_step=grid_step\n",
    "        )\n",
    "\n",
    "        model.train()\n",
    "\n",
    "        y_pred_i = model.predict(X_val_i)  # и тут\n",
    "        diffs = abs(y_val_i - y_pred_i)    # и тут\n",
    "        max_diff = max(diffs)\n",
    "\n",
    "        divergences[k] = max_diff\n",
    "    \n",
    "    results.append(divergences)"
   ]
  },
  {
   "cell_type": "code",
   "execution_count": 59,
   "metadata": {},
   "outputs": [
    {
     "data": {
      "text/plain": [
       "[{1: 0.316751635316621,\n",
       "  2: 0.316751635316621,\n",
       "  3: 0.8888923777237812,\n",
       "  4: 1.0274218143357428,\n",
       "  5: 1.0531752163559962,\n",
       "  6: 0.7532093990205911,\n",
       "  7: 0.7532093990205911,\n",
       "  8: 0.31274311943747946,\n",
       "  9: 0.31274311943747946},\n",
       " {1: 0.7804020372626753,\n",
       "  2: 0.7128501624761201,\n",
       "  3: 0.7128501624761201,\n",
       "  4: 0.7128501624761201,\n",
       "  5: 0.7128501624761201,\n",
       "  6: 1.7792381006283482,\n",
       "  7: 1.7792381006283482,\n",
       "  8: 0.7865168055115637,\n",
       "  9: 1.1054449657998113}]"
      ]
     },
     "execution_count": 59,
     "metadata": {},
     "output_type": "execute_result"
    }
   ],
   "source": [
    "results[:2]"
   ]
  },
  {
   "cell_type": "code",
   "execution_count": 60,
   "metadata": {},
   "outputs": [],
   "source": [
    "averaged_divergences = dict()\n",
    "\n",
    "for k in results[0]:\n",
    "    averaged_divergences[k] = (\n",
    "        sum(r[k] for r in results) / len(results)\n",
    "    )"
   ]
  },
  {
   "cell_type": "code",
   "execution_count": 61,
   "metadata": {},
   "outputs": [
    {
     "data": {
      "image/png": "[encoded data removed]",
      "text/plain": [
       "<Figure size 432x288 with 1 Axes>"
      ]
     },
     "metadata": {
      "needs_background": "light"
     },
     "output_type": "display_data"
    }
   ],
   "source": [
    "# \"Плохость\" в зависимости от k\n",
    "plt.plot(\n",
    "    averaged_divergences.keys(),\n",
    "    averaged_divergences.values(),\n",
    "    marker='.', markersize=10\n",
    ")\n",
    "\n",
    "plt.xlabel('k')\n",
    "plt.ylabel('Divergence')\n",
    "plt.show()"
   ]
  },
  {
   "cell_type": "markdown",
   "metadata": {},
   "source": [
    "Оптимальный `k` равен... одному?\n",
    "Но ведь это точно плохая модель?\n",
    "\n",
    "Видимо, `k = 1` оказался просто самым устойчивым относительно \"пертурбаций\" в выборках train и val: они были очень маленькие, поэтому и val мог состоять из \"нерепрезентативных\" объектов (например, все с одного края), и из train мог быть вырезан \"важный кусок\".\n",
    "\n",
    "Поэтому... проведём ещё один эксперимент, в этом же разделе, но с выборкой \"нормального\" размера."
   ]
  },
  {
   "cell_type": "code",
   "execution_count": 63,
   "metadata": {},
   "outputs": [
    {
     "name": "stdout",
     "output_type": "stream",
     "text": [
      "Старое количество объектов в train: 13.\n"
     ]
    }
   ],
   "source": [
    "print(f'Старое количество объектов в train: {len(X_train)}.')"
   ]
  },
  {
   "cell_type": "code",
   "execution_count": 64,
   "metadata": {},
   "outputs": [],
   "source": [
    "X_train = np.arange(-3, 3.001, 0.02)"
   ]
  },
  {
   "cell_type": "code",
   "execution_count": 65,
   "metadata": {},
   "outputs": [
    {
     "name": "stdout",
     "output_type": "stream",
     "text": [
      "Новое количество объектов в train: 301.\n"
     ]
    }
   ],
   "source": [
    "print(f'Новое количество объектов в train: {len(X_train)}.')"
   ]
  },
  {
   "cell_type": "code",
   "execution_count": 66,
   "metadata": {},
   "outputs": [],
   "source": [
    "np.random.seed(SEED)\n",
    "\n",
    "noise = 0.2 * np.random.randn(len(X_train))\n",
    "y_train = a(X_train) + noise"
   ]
  },
  {
   "cell_type": "code",
   "execution_count": 67,
   "metadata": {},
   "outputs": [
    {
     "data": {
      "image/png": "[encoded data removed]",
      "text/plain": [
       "<Figure size 432x288 with 1 Axes>"
      ]
     },
     "metadata": {
      "needs_background": "light"
     },
     "output_type": "display_data"
    }
   ],
   "source": [
    "plt.plot(X, y, color='lightsteelblue')\n",
    "plt.scatter(X_train, y_train, color='royalblue')\n",
    "\n",
    "plt.xlabel('x')\n",
    "plt.ylabel('y')\n",
    "plt.show()"
   ]
  },
  {
   "cell_type": "code",
   "execution_count": 69,
   "metadata": {},
   "outputs": [
    {
     "name": "stdout",
     "output_type": "stream",
     "text": [
      "Iteration: 0.\n",
      "    K = 1.\n",
      "    K = 2.\n",
      "    K = 3.\n",
      "    K = 4.\n",
      "    K = 5.\n",
      "    K = 6.\n",
      "    K = 7.\n",
      "    K = 8.\n",
      "    K = 9.\n",
      "Iteration: 1.\n",
      "    K = 1.\n",
      "    K = 2.\n",
      "    K = 3.\n",
      "    K = 4.\n",
      "    K = 5.\n",
      "    K = 6.\n",
      "    K = 7.\n",
      "    K = 8.\n",
      "    K = 9.\n",
      "Iteration: 2.\n",
      "    K = 1.\n",
      "    K = 2.\n",
      "    K = 3.\n",
      "    K = 4.\n",
      "    K = 5.\n",
      "    K = 6.\n",
      "    K = 7.\n",
      "    K = 8.\n",
      "    K = 9.\n",
      "Iteration: 3.\n",
      "    K = 1.\n",
      "    K = 2.\n",
      "    K = 3.\n",
      "    K = 4.\n",
      "    K = 5.\n",
      "    K = 6.\n",
      "    K = 7.\n",
      "    K = 8.\n",
      "    K = 9.\n",
      "Iteration: 4.\n",
      "    K = 1.\n",
      "    K = 2.\n",
      "    K = 3.\n",
      "    K = 4.\n",
      "    K = 5.\n",
      "    K = 6.\n",
      "    K = 7.\n",
      "    K = 8.\n",
      "    K = 9.\n",
      "Iteration: 5.\n",
      "    K = 1.\n",
      "    K = 2.\n",
      "    K = 3.\n",
      "    K = 4.\n",
      "    K = 5.\n",
      "    K = 6.\n",
      "    K = 7.\n",
      "    K = 8.\n",
      "    K = 9.\n",
      "Iteration: 6.\n",
      "    K = 1.\n",
      "    K = 2.\n",
      "    K = 3.\n",
      "    K = 4.\n",
      "    K = 5.\n",
      "    K = 6.\n",
      "    K = 7.\n",
      "    K = 8.\n",
      "    K = 9.\n",
      "Iteration: 7.\n",
      "    K = 1.\n",
      "    K = 2.\n",
      "    K = 3.\n",
      "    K = 4.\n",
      "    K = 5.\n",
      "    K = 6.\n",
      "    K = 7.\n",
      "    K = 8.\n",
      "    K = 9.\n",
      "Iteration: 8.\n",
      "    K = 1.\n",
      "    K = 2.\n",
      "    K = 3.\n",
      "    K = 4.\n",
      "    K = 5.\n",
      "    K = 6.\n",
      "    K = 7.\n",
      "    K = 8.\n",
      "    K = 9.\n",
      "Iteration: 9.\n",
      "    K = 1.\n",
      "    K = 2.\n",
      "    K = 3.\n",
      "    K = 4.\n",
      "    K = 5.\n",
      "    K = 6.\n",
      "    K = 7.\n",
      "    K = 8.\n",
      "    K = 9.\n"
     ]
    }
   ],
   "source": [
    "np.random.seed(SEED)\n",
    "\n",
    "num_val_samples = int(0.25 * len(X_train))\n",
    "results = list()\n",
    "\n",
    "for i in range(10):\n",
    "    print(f'Iteration: {i}.')\n",
    "    \n",
    "    val_indices = np.random.choice(\n",
    "        range(len(X_train)), num_val_samples, replace=False\n",
    "    )\n",
    "    \n",
    "    X_val_i = np.array(\n",
    "        [X_train[j] for j in val_indices]\n",
    "    )\n",
    "    y_val_i = np.array(\n",
    "        [y_train[j] for j in val_indices]\n",
    "    )\n",
    "\n",
    "    X_train_i = np.array(\n",
    "        [X_train[j] for j in range(len(X_train))\n",
    "                    if j not in val_indices]\n",
    "    )\n",
    "    y_train_i = np.array(\n",
    "        [y_train[j] for j in range(len(X_train))\n",
    "                    if j not in val_indices]\n",
    "    )\n",
    "    \n",
    "    grid_step = 0.05\n",
    "    divergences = dict()\n",
    "\n",
    "    for k in range(1, 10):\n",
    "        print(f'    K = {k}.')\n",
    "\n",
    "        if k == 3:\n",
    "            grid_step = 0.1\n",
    "        elif k == 4 or k == 5:\n",
    "            grid_step = 0.2\n",
    "        elif k >= 6:\n",
    "            grid_step = 0.5\n",
    "\n",
    "        model = FairKTrainableNearestNeighboursNoOverfitModel(\n",
    "            X_train_i, y_train_i,\n",
    "            k=k, grid_step=grid_step\n",
    "        )\n",
    "\n",
    "        model.train()\n",
    "\n",
    "        y_pred_i = model.predict(X_val_i)\n",
    "        diffs = abs(y_val_i - y_pred_i)\n",
    "        max_diff = max(diffs)\n",
    "\n",
    "        divergences[k] = max_diff\n",
    "    \n",
    "    results.append(divergences)"
   ]
  },
  {
   "cell_type": "code",
   "execution_count": 70,
   "metadata": {},
   "outputs": [
    {
     "data": {
      "text/plain": [
       "[{1: 1.1434181894416529,\n",
       "  2: 0.8775706359116178,\n",
       "  3: 0.8423206433344872,\n",
       "  4: 0.8262676623871623,\n",
       "  5: 0.8041365691124901,\n",
       "  6: 0.7474585045450589,\n",
       "  7: 0.7474585045450589,\n",
       "  8: 0.692267915013613,\n",
       "  9: 0.692267915013613},\n",
       " {1: 0.69826279850918,\n",
       "  2: 0.6149442276376405,\n",
       "  3: 0.6196380407080689,\n",
       "  4: 0.6226455378425525,\n",
       "  5: 0.5717070847796764,\n",
       "  6: 0.7024501737585152,\n",
       "  7: 0.7024501737585152,\n",
       "  8: 0.7024501737585152,\n",
       "  9: 0.7024501737585152}]"
      ]
     },
     "execution_count": 70,
     "metadata": {},
     "output_type": "execute_result"
    }
   ],
   "source": [
    "results[:2]"
   ]
  },
  {
   "cell_type": "code",
   "execution_count": 71,
   "metadata": {},
   "outputs": [],
   "source": [
    "averaged_divergences = dict()\n",
    "\n",
    "for k in results[0]:\n",
    "    averaged_divergences[k] = (\n",
    "        sum(r[k] for r in results) / len(results)\n",
    "    )"
   ]
  },
  {
   "cell_type": "code",
   "execution_count": 72,
   "metadata": {},
   "outputs": [
    {
     "data": {
      "image/png": "[encoded data removed]",
      "text/plain": [
       "<Figure size 432x288 with 1 Axes>"
      ]
     },
     "metadata": {
      "needs_background": "light"
     },
     "output_type": "display_data"
    }
   ],
   "source": [
    "# \"Плохость\" в зависимости от k\n",
    "plt.plot(\n",
    "    averaged_divergences.keys(),\n",
    "    averaged_divergences.values(),\n",
    "    marker='.', markersize=10\n",
    ")\n",
    "\n",
    "plt.xlabel('k')\n",
    "plt.ylabel('Divergence')\n",
    "plt.show()"
   ]
  },
  {
   "cell_type": "markdown",
   "metadata": {},
   "source": [
    "Видим, что `k = 1` хуже всех (ожидаемо), а лучший — это `k = 5` (раньше же, при \"валидации\" на всей совокупности, но с малой обучающей выборкой, лучшее `k` получилось `k = 4`, то есть похоже)."
   ]
  },
  {
   "cell_type": "markdown",
   "metadata": {},
   "source": [
    "Интереса ради посмотрим на лучшего на картинке."
   ]
  },
  {
   "cell_type": "code",
   "execution_count": 75,
   "metadata": {},
   "outputs": [
    {
     "name": "stdout",
     "output_type": "stream",
     "text": [
      "Best k = 5.\n",
      "Weights: (0.4, 0.0, 0.0, 0.2, 0.4).\n"
     ]
    }
   ],
   "source": [
    "best_k_index = np.argmin(list(averaged_divergences.values()))\n",
    "best_k = list(averaged_divergences.keys())[best_k_index]\n",
    "\n",
    "print(f'Best k = {best_k}.')\n",
    "\n",
    "model = FairKTrainableNearestNeighboursNoOverfitModel(\n",
    "    X_train, y_train, k=best_k,\n",
    "    grid_step=0.2\n",
    ")\n",
    "\n",
    "model.train()\n",
    "\n",
    "print(f'Weights: {model.weights}.')\n",
    "\n",
    "y_pred = model.predict(X)"
   ]
  },
  {
   "cell_type": "markdown",
   "metadata": {},
   "source": [
    "Интересно, второй и третий не важны, а пятый так же важен, как первый... 🤔"
   ]
  },
  {
   "cell_type": "code",
   "execution_count": 78,
   "metadata": {},
   "outputs": [
    {
     "data": {
      "image/png": "[encoded data removed]",
      "text/plain": [
       "<Figure size 432x288 with 1 Axes>"
      ]
     },
     "metadata": {
      "needs_background": "light"
     },
     "output_type": "display_data"
    }
   ],
   "source": [
    "plot_prediction(X, y_pred, X_train, y_train)"
   ]
  },
  {
   "cell_type": "markdown",
   "metadata": {},
   "source": [
    "## P.S.\n",
    "\n",
    "Копипаст, и все эти \"отличие тут, и тут\" — так делать не надо!\n",
    "Это была лишь попытка сделать ноутбук, пусть и немного \"похуже\" в плане качества кода, но, возможно, более простым и понятным (возможно).\n",
    "\n",
    "Другая версия того же сюжета о KNN: https://github.com/Alvant/AdvancedPython/blob/master2022/labs/lab24/demo/ML2.ipynb.\n",
    "Которая, по мнению автора, получилась более \"замороченной\" (зато там красивые картинки 🙂)."
   ]
  }
 ],
 "metadata": {
  "kernelspec": {
   "display_name": "Python 3",
   "language": "python",
   "name": "python3"
  },
  "language_info": {
   "codemirror_mode": {
    "name": "ipython",
    "version": 3
   },
   "file_extension": ".py",
   "mimetype": "text/x-python",
   "name": "python",
   "nbconvert_exporter": "python",
   "pygments_lexer": "ipython3",
   "version": "3.8.11"
  }
 },
 "nbformat": 4,
 "nbformat_minor": 4
}
