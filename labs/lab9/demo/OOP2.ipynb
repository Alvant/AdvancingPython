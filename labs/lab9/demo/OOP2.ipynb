{
 "cells": [
  {
   "cell_type": "markdown",
   "metadata": {},
   "source": [
    "# ООП (Продолжение)"
   ]
  },
  {
   "cell_type": "markdown",
   "metadata": {},
   "source": [
    "## Сюжет 1: Геометрические фигуры\n",
    "\n",
    "Ещё раз про \"базовое ООП\": инкапсуляция (\"наполнение\" класса разным), наследование (один класс — частный случай другого), полиморфизм (имена методов одинаковые, но \"начинка\" разная).\n",
    "Плюс (ещё) немного абстракции."
   ]
  },
  {
   "cell_type": "code",
   "execution_count": 1,
   "metadata": {},
   "outputs": [],
   "source": [
    "PI = 3.14\n",
    "\n",
    "\n",
    "class GeometricFigure:\n",
    "    # Абстрактный метод — пока его нет,\n",
    "    # но у всех \"нормальных\" потомков он должен быть.\n",
    "    def describe(self):\n",
    "        raise NotImplementedError()\n",
    "    \n",
    "    # Класс с абстрактным методом — абстрактный класс\n",
    "\n",
    "    def area(self):\n",
    "        raise NotImplementedError()\n",
    "\n",
    "\n",
    "class Polygon(GeometricFigure):\n",
    "    def __init__(self, vertices):\n",
    "        self.vertices = vertices\n",
    "    \n",
    "    def describe(self):\n",
    "        return f'Polygon with {len(self.vertices)} vertices'\n",
    "    \n",
    "    def perimeter(self):\n",
    "        if len(self.vertices) == 1:\n",
    "            return 0\n",
    "        elif len(self.vertices) == 2:\n",
    "            return self._calc_distance(\n",
    "                self.vertices[0], self.vertices[-1]\n",
    "            )\n",
    "        \n",
    "        p = 0\n",
    "        \n",
    "        for i in range(len(self.vertices)):  # i = 0 тоже ОК (замкнутая фигура)\n",
    "            p += self._calc_distance(\n",
    "                self.vertices[i], self.vertices[i - 1]\n",
    "            )\n",
    "        \n",
    "        return p\n",
    "    \n",
    "    def _calc_distance(self, p1, p2):\n",
    "        return ((p1[0] - p2[0]) ** 2 + (p1[1] - p2[1]) ** 2) ** 0.5\n",
    "    \n",
    "    # Без метода area класс Многоугольника тоже получается абстрактным\n",
    "\n",
    "\n",
    "class Rectangle(Polygon):\n",
    "    def __init__(self, x, y, w, h):\n",
    "        super().__init__(\n",
    "            vertices=[\n",
    "                (x, y), (x + w, y),\n",
    "                (x + w, y + h), (x, y + h)\n",
    "            ]\n",
    "        )\n",
    "        self.width = w\n",
    "        self.height = h\n",
    "    \n",
    "    def area(self):\n",
    "        return self.width * self.height\n",
    "\n",
    "\n",
    "class Square(Rectangle):\n",
    "    def __init__(self, x, y, a):\n",
    "        super().__init__(x, y, a, a)\n",
    "\n",
    "\n",
    "class Ellipse(GeometricFigure):\n",
    "    def __init__(self, x, y, a, b):\n",
    "        self.x = x\n",
    "        self.y = y\n",
    "        self.a = max(a, b)\n",
    "        self.b = min(a, b)\n",
    "    \n",
    "    def describe(self):\n",
    "        return f'Ellipse with semi-major axis {self.a} and semi-minor axis {self.b}.'\n",
    "\n",
    "    def area(self):\n",
    "        return PI * self.a * self.b\n",
    "\n",
    "\n",
    "class Circle(Ellipse):\n",
    "    def __init__(self, x, y, r):\n",
    "        super().__init__(x, y, r, r)"
   ]
  },
  {
   "cell_type": "code",
   "execution_count": 2,
   "metadata": {},
   "outputs": [
    {
     "name": "stdout",
     "output_type": "stream",
     "text": [
      "Polygon with 3 vertices\n",
      "[(1, 0), (0, 1), (0.5, 0.5)]\n"
     ]
    }
   ],
   "source": [
    "polygon = Polygon([(1, 0), (0, 1), (0.5, 0.5)])\n",
    "\n",
    "print(polygon.describe())\n",
    "print(polygon.vertices)"
   ]
  },
  {
   "cell_type": "code",
   "execution_count": 3,
   "metadata": {},
   "outputs": [
    {
     "ename": "NotImplementedError",
     "evalue": "",
     "output_type": "error",
     "traceback": [
      "\u001b[0;31m---------------------------------------------------------------------------\u001b[0m",
      "\u001b[0;31mNotImplementedError\u001b[0m                       Traceback (most recent call last)",
      "\u001b[0;32m<ipython-input-3-e2e1e4aaea5b>\u001b[0m in \u001b[0;36m<module>\u001b[0;34m\u001b[0m\n\u001b[1;32m      1\u001b[0m \u001b[0;31m# Абстрактный (не до конца готовый) класс,\u001b[0m\u001b[0;34m\u001b[0m\u001b[0;34m\u001b[0m\u001b[0;34m\u001b[0m\u001b[0m\n\u001b[1;32m      2\u001b[0m \u001b[0;31m# поэтому в процессе работы можно \"наступить на грабли\"\u001b[0m\u001b[0;34m\u001b[0m\u001b[0;34m\u001b[0m\u001b[0;34m\u001b[0m\u001b[0m\n\u001b[0;32m----> 3\u001b[0;31m \u001b[0mpolygon\u001b[0m\u001b[0;34m.\u001b[0m\u001b[0marea\u001b[0m\u001b[0;34m(\u001b[0m\u001b[0;34m)\u001b[0m\u001b[0;34m\u001b[0m\u001b[0;34m\u001b[0m\u001b[0m\n\u001b[0m",
      "\u001b[0;32m<ipython-input-1-6297bc8afc50>\u001b[0m in \u001b[0;36marea\u001b[0;34m(self)\u001b[0m\n\u001b[1;32m     11\u001b[0m \u001b[0;34m\u001b[0m\u001b[0m\n\u001b[1;32m     12\u001b[0m     \u001b[0;32mdef\u001b[0m \u001b[0marea\u001b[0m\u001b[0;34m(\u001b[0m\u001b[0mself\u001b[0m\u001b[0;34m)\u001b[0m\u001b[0;34m:\u001b[0m\u001b[0;34m\u001b[0m\u001b[0;34m\u001b[0m\u001b[0m\n\u001b[0;32m---> 13\u001b[0;31m         \u001b[0;32mraise\u001b[0m \u001b[0mNotImplementedError\u001b[0m\u001b[0;34m(\u001b[0m\u001b[0;34m)\u001b[0m\u001b[0;34m\u001b[0m\u001b[0;34m\u001b[0m\u001b[0m\n\u001b[0m\u001b[1;32m     14\u001b[0m \u001b[0;34m\u001b[0m\u001b[0m\n\u001b[1;32m     15\u001b[0m \u001b[0;34m\u001b[0m\u001b[0m\n",
      "\u001b[0;31mNotImplementedError\u001b[0m: "
     ]
    }
   ],
   "source": [
    "# Абстрактный (не до конца готовый) класс,\n",
    "# поэтому в процессе работы можно \"наступить на грабли\"\n",
    "polygon.area()"
   ]
  },
  {
   "cell_type": "code",
   "execution_count": 4,
   "metadata": {},
   "outputs": [
    {
     "name": "stdout",
     "output_type": "stream",
     "text": [
      "Polygon with 4 vertices\n",
      "[(0, 0), (1, 0), (1, 1), (0, 1)]\n",
      "Area: 1\n",
      "Perimeter: 4.0\n"
     ]
    }
   ],
   "source": [
    "rectange = Rectangle(0, 0, 1, 1)\n",
    "\n",
    "print(rectange.describe())\n",
    "print(rectange.vertices)\n",
    "print(f'Area: {rectange.area()}')\n",
    "print(f'Perimeter: {rectange.perimeter()}')"
   ]
  },
  {
   "cell_type": "code",
   "execution_count": 5,
   "metadata": {},
   "outputs": [
    {
     "name": "stdout",
     "output_type": "stream",
     "text": [
      "Polygon with 4 vertices\n",
      "[(0, 0), (1, 0), (1, 1), (0, 1)]\n",
      "Area: 1\n",
      "Perimeter: 4.0\n"
     ]
    }
   ],
   "source": [
    "square = Square(0, 0, 1)\n",
    "\n",
    "print(square.describe())\n",
    "print(square.vertices)\n",
    "print(f'Area: {square.area()}')\n",
    "print(f'Perimeter: {square.perimeter()}')"
   ]
  },
  {
   "cell_type": "code",
   "execution_count": 6,
   "metadata": {},
   "outputs": [
    {
     "name": "stdout",
     "output_type": "stream",
     "text": [
      "Ellipse with semi-major axis 2 and semi-minor axis 1.\n",
      "Area: 6.28\n"
     ]
    }
   ],
   "source": [
    "ellipse = Ellipse(0, 0, 1, 2)\n",
    "\n",
    "print(ellipse.describe())\n",
    "print(f'Area: {ellipse.area()}')"
   ]
  },
  {
   "cell_type": "code",
   "execution_count": 7,
   "metadata": {},
   "outputs": [
    {
     "name": "stdout",
     "output_type": "stream",
     "text": [
      "Ellipse with semi-major axis 1 and semi-minor axis 1.\n",
      "Area: 3.14\n"
     ]
    }
   ],
   "source": [
    "circle = Circle(0, 0, 1)\n",
    "\n",
    "print(circle.describe())\n",
    "print(f'Area: {circle.area()}')"
   ]
  },
  {
   "cell_type": "markdown",
   "metadata": {},
   "source": [
    "## Сюжет 2: Векторы\n",
    "\n",
    "Про \"магические\" возможности классов, или ещё несколько методов со \"страшными\" именами (кроме конструктора)."
   ]
  },
  {
   "cell_type": "code",
   "execution_count": 8,
   "metadata": {},
   "outputs": [],
   "source": [
    "v1 = (1, 2)\n",
    "v2 = (-1, -1)"
   ]
  },
  {
   "cell_type": "code",
   "execution_count": 9,
   "metadata": {},
   "outputs": [
    {
     "data": {
      "text/plain": [
       "(1, 2, -1, -1)"
      ]
     },
     "execution_count": 9,
     "metadata": {},
     "output_type": "execute_result"
    }
   ],
   "source": [
    "# Не то, что ожидаем от сложения векторов\n",
    "v1 + v2"
   ]
  },
  {
   "cell_type": "code",
   "execution_count": 10,
   "metadata": {},
   "outputs": [
    {
     "data": {
      "text/plain": [
       "(1, 2, 1, 2)"
      ]
     },
     "execution_count": 10,
     "metadata": {},
     "output_type": "execute_result"
    }
   ],
   "source": [
    "# Тоже не то\n",
    "v1 * 2"
   ]
  },
  {
   "cell_type": "markdown",
   "metadata": {},
   "source": [
    "Хочется, чтобы с векторами было удобно работать..."
   ]
  },
  {
   "cell_type": "code",
   "execution_count": 11,
   "metadata": {},
   "outputs": [],
   "source": [
    "class Vector:\n",
    "    def __init__(self, x, y):\n",
    "        self.x = x\n",
    "        self.y = y\n",
    "    \n",
    "    def __add__(self, other):\n",
    "        if not isinstance(other, Vector):\n",
    "            # Так принято делать в Питоне, если операцию провести нельзя.\n",
    "            # (По идее тут надо бы было бросить NotImplementedError,\n",
    "            # но так не делают, Питон сам бросит ошибку; https://stackoverflow.com/questions/878943/why-return-notimplemented-instead-of-raising-notimplementederror)\n",
    "            return NotImplemented\n",
    "\n",
    "        return Vector(\n",
    "            x = self.x + other.x,\n",
    "            y = self.y + other.y\n",
    "        )\n",
    "    \n",
    "    def __mul__(self, other):\n",
    "        if not isinstance(other, (int, float)):\n",
    "            return NotImplemented\n",
    "        \n",
    "        print('\"Left\" mul.')\n",
    "\n",
    "        return Vector(\n",
    "            x = self.x * other,\n",
    "            y = self.y * other\n",
    "        )\n",
    "    \n",
    "    def __sub__(self, other):\n",
    "        return self + (-1) * other\n",
    "    \n",
    "    def __rmul__(self, other):\n",
    "        print('\"Right\" mul.')\n",
    "\n",
    "        return self * other\n",
    "    \n",
    "    def __abs__(self):\n",
    "        return (self.x ** 2 + self.y ** 2) ** 0.5\n",
    "\n",
    "    def __str__(self):  # \"Человекочитаемое\" описание\n",
    "        return f'({self.x}, {self.y})'\n",
    "    \n",
    "    def __repr__(self):  # \"Машинопонятное\" (\"программистское\") описание\n",
    "        return f'Vector({self.x}, {self.y})'"
   ]
  },
  {
   "cell_type": "code",
   "execution_count": 12,
   "metadata": {},
   "outputs": [],
   "source": [
    "v1 = Vector(3, 0)\n",
    "v2 = Vector(0, 4)"
   ]
  },
  {
   "cell_type": "code",
   "execution_count": 13,
   "metadata": {},
   "outputs": [
    {
     "data": {
      "text/plain": [
       "(3, 0)"
      ]
     },
     "execution_count": 13,
     "metadata": {},
     "output_type": "execute_result"
    }
   ],
   "source": [
    "v1.x, v1.y"
   ]
  },
  {
   "cell_type": "code",
   "execution_count": 14,
   "metadata": {},
   "outputs": [
    {
     "name": "stdout",
     "output_type": "stream",
     "text": [
      "(3, 4)\n"
     ]
    }
   ],
   "source": [
    "print(v1 + v2)"
   ]
  },
  {
   "cell_type": "code",
   "execution_count": 15,
   "metadata": {},
   "outputs": [
    {
     "name": "stdout",
     "output_type": "stream",
     "text": [
      "\"Left\" mul.\n",
      "(6, 0)\n"
     ]
    }
   ],
   "source": [
    "print(v1 * 2)"
   ]
  },
  {
   "cell_type": "code",
   "execution_count": 16,
   "metadata": {},
   "outputs": [
    {
     "name": "stdout",
     "output_type": "stream",
     "text": [
      "\"Right\" mul.\n",
      "\"Left\" mul.\n",
      "(6, 0)\n"
     ]
    }
   ],
   "source": [
    "print(2 * v1)"
   ]
  },
  {
   "cell_type": "code",
   "execution_count": 17,
   "metadata": {},
   "outputs": [
    {
     "ename": "TypeError",
     "evalue": "unsupported operand type(s) for *: 'Vector' and 'Vector'",
     "output_type": "error",
     "traceback": [
      "\u001b[0;31m---------------------------------------------------------------------------\u001b[0m",
      "\u001b[0;31mTypeError\u001b[0m                                 Traceback (most recent call last)",
      "\u001b[0;32m<ipython-input-17-9a4a21532a84>\u001b[0m in \u001b[0;36m<module>\u001b[0;34m\u001b[0m\n\u001b[0;32m----> 1\u001b[0;31m \u001b[0mprint\u001b[0m\u001b[0;34m(\u001b[0m\u001b[0mv1\u001b[0m \u001b[0;34m*\u001b[0m \u001b[0mv2\u001b[0m\u001b[0;34m)\u001b[0m\u001b[0;34m\u001b[0m\u001b[0;34m\u001b[0m\u001b[0m\n\u001b[0m",
      "\u001b[0;31mTypeError\u001b[0m: unsupported operand type(s) for *: 'Vector' and 'Vector'"
     ]
    }
   ],
   "source": [
    "print(v1 * v2)"
   ]
  },
  {
   "cell_type": "code",
   "execution_count": 18,
   "metadata": {},
   "outputs": [
    {
     "ename": "TypeError",
     "evalue": "unsupported operand type(s) for +: 'Vector' and 'int'",
     "output_type": "error",
     "traceback": [
      "\u001b[0;31m---------------------------------------------------------------------------\u001b[0m",
      "\u001b[0;31mTypeError\u001b[0m                                 Traceback (most recent call last)",
      "\u001b[0;32m<ipython-input-18-306491c09989>\u001b[0m in \u001b[0;36m<module>\u001b[0;34m\u001b[0m\n\u001b[0;32m----> 1\u001b[0;31m \u001b[0mprint\u001b[0m\u001b[0;34m(\u001b[0m\u001b[0mv1\u001b[0m \u001b[0;34m+\u001b[0m \u001b[0;36m2\u001b[0m\u001b[0;34m)\u001b[0m\u001b[0;34m\u001b[0m\u001b[0;34m\u001b[0m\u001b[0m\n\u001b[0m",
      "\u001b[0;31mTypeError\u001b[0m: unsupported operand type(s) for +: 'Vector' and 'int'"
     ]
    }
   ],
   "source": [
    "print(v1 + 2)"
   ]
  },
  {
   "cell_type": "code",
   "execution_count": 19,
   "metadata": {},
   "outputs": [],
   "source": [
    "v = v1 + v2"
   ]
  },
  {
   "cell_type": "code",
   "execution_count": 20,
   "metadata": {},
   "outputs": [
    {
     "data": {
      "text/plain": [
       "'(3, 4)'"
      ]
     },
     "execution_count": 20,
     "metadata": {},
     "output_type": "execute_result"
    }
   ],
   "source": [
    "# Функции \"из ниоткуда\" Питона используют магические методы,\n",
    "# определённые \"где-то там под капотом\"\n",
    "str(v)"
   ]
  },
  {
   "cell_type": "code",
   "execution_count": 21,
   "metadata": {},
   "outputs": [
    {
     "data": {
      "text/plain": [
       "5.0"
      ]
     },
     "execution_count": 21,
     "metadata": {},
     "output_type": "execute_result"
    }
   ],
   "source": [
    "abs(v)"
   ]
  }
 ],
 "metadata": {
  "kernelspec": {
   "display_name": "Python 3",
   "language": "python",
   "name": "python3"
  },
  "language_info": {
   "codemirror_mode": {
    "name": "ipython",
    "version": 3
   },
   "file_extension": ".py",
   "mimetype": "text/x-python",
   "name": "python",
   "nbconvert_exporter": "python",
   "pygments_lexer": "ipython3",
   "version": "3.8.11"
  }
 },
 "nbformat": 4,
 "nbformat_minor": 4
}
